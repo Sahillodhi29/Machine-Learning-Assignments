{
 "cells": [
  {
   "cell_type": "code",
   "execution_count": null,
   "id": "204a4111-1a16-42bb-842d-b3828359ca51",
   "metadata": {},
   "outputs": [],
   "source": [
    "'''Q1. What is Elastic Net Regression and how does it differ from other regression techniques?'''\n",
    "'''\n",
    "Elastic Net Regression is used for both \n",
    "\n",
    "1. to Reduce overfitting \n",
    "2. for feature selection \n",
    "\n",
    "it uses both penalty terms of l1 and l2 regularization '''"
   ]
  },
  {
   "cell_type": "code",
   "execution_count": null,
   "id": "c2e871d2-1fc4-414d-8ca3-a117f128dccc",
   "metadata": {},
   "outputs": [],
   "source": [
    "'''Q2. How do you choose the optimal values of the regularization parameters for Elastic Net Regression?'''\n",
    "'''\n",
    "By using GridSearch with Cross Validation or Randomized search cv\n",
    "\n",
    "we can identify the best parameters for elastic net regresion '''"
   ]
  },
  {
   "cell_type": "code",
   "execution_count": null,
   "id": "ff7d57c6-4d88-4535-90ec-ff9782f378e2",
   "metadata": {},
   "outputs": [],
   "source": [
    "'''Q3. What are the advantages and disadvantages of Elastic Net Regression?'''\n",
    "'''\n",
    "advantages-\n",
    "\n",
    "l1 nd l2 both regularizations \n",
    "\n",
    "reduces overfitting and can select features at the same time \n",
    "\n",
    "disadvantages-\n",
    "\n",
    "need for hyperparameter tuning '''"
   ]
  },
  {
   "cell_type": "code",
   "execution_count": null,
   "id": "4e03bc93-0c20-4bbc-bf6d-a08b49bf5526",
   "metadata": {},
   "outputs": [],
   "source": [
    "'''Q8. How do you pickle and unpickle a trained Elastic Net Regression model in Python?'''\n",
    " \n",
    "\n",
    "import pickle\n",
    "\n",
    "   # to pickle a model\n",
    "    pickle.dump(elastic_net_model, open('elastic_net_model.pkl', 'wb'))\n",
    "\n",
    "\n",
    "    # to unpickle a model\n",
    "    elastic_net_model=pickle.load( open('elastic_net_model.pkl', 'rb'))\n"
   ]
  },
  {
   "cell_type": "code",
   "execution_count": null,
   "id": "0f35471e-84e2-4d46-aa4f-e51bca36b1d5",
   "metadata": {},
   "outputs": [],
   "source": [
    "'''Q9. What is the purpose of pickling a model in machine learning?'''\n",
    "\n",
    "''' pickle is used to save the model file in the computer so we can directly use it on new data '''\n"
   ]
  }
 ],
 "metadata": {
  "kernelspec": {
   "display_name": "Python 3 (ipykernel)",
   "language": "python",
   "name": "python3"
  },
  "language_info": {
   "codemirror_mode": {
    "name": "ipython",
    "version": 3
   },
   "file_extension": ".py",
   "mimetype": "text/x-python",
   "name": "python",
   "nbconvert_exporter": "python",
   "pygments_lexer": "ipython3",
   "version": "3.10.8"
  }
 },
 "nbformat": 4,
 "nbformat_minor": 5
}
