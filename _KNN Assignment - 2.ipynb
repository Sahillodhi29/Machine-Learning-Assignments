{
 "cells": [
  {
   "cell_type": "code",
   "execution_count": null,
   "id": "b8782e7c-8044-4b51-8f9a-96c9822a1634",
   "metadata": {},
   "outputs": [],
   "source": [
    "'''Q1. What is the main difference between the Euclidean distance metric and the Manhattan distance\n",
    "metric in KNN? How might this difference affect the performance of a KNN classifier or regressor?'''\n",
    "'''\n",
    "Euclidean distance metric is a shortest distance between 2 points whereas Manhattan distance is the sum of the \n",
    "absolute differences of their Cartesian coordinates\n",
    "\n",
    "we can use hyperparamter tuning to find the best distance for our dataset '''"
   ]
  },
  {
   "cell_type": "code",
   "execution_count": null,
   "id": "a0e606d9-b8a0-4cc9-a0a9-9f9b77a91f50",
   "metadata": {},
   "outputs": [],
   "source": [
    "'''Q2. How do you choose the optimal value of k for a KNN classifier or regressor? What techniques can be\n",
    "used to determine the optimal k value?'''  \n",
    "'''\n",
    "by hyperparamter tuning as different values of K gives better performance for different dataset '''"
   ]
  },
  {
   "cell_type": "code",
   "execution_count": null,
   "id": "78c61e7c-2812-4d1e-b851-0c3c5fa8ee3b",
   "metadata": {},
   "outputs": [],
   "source": [
    "'''Q3. How does the choice of distance metric affect the performance of a KNN classifier or regressor? In\n",
    "what situations might you choose one distance metric over the other?'''\n",
    "\n",
    "'''we can do hyperparamter tuning by using grid search cv to find the best distance for our dataset '''"
   ]
  },
  {
   "cell_type": "code",
   "execution_count": null,
   "id": "2895f919-092a-4700-ab29-1049c24d8eeb",
   "metadata": {},
   "outputs": [],
   "source": [
    "'''Q4. What are some common hyperparameters in KNN classifiers and regressors, and how do they affect\n",
    "the performance of the model? How might you go about tuning these hyperparameters to improve\n",
    "model performance?'''\n",
    "'''\n",
    "some common hyperparameters in KNN classifiers and regressor-\n",
    "\n",
    "n_neighbors - k value\n",
    "\n",
    "weights\n",
    "\n",
    "algorithm - for kd tree or ball tree\n",
    "\n",
    "p - for distance '''"
   ]
  },
  {
   "cell_type": "code",
   "execution_count": null,
   "id": "51c4f2c6-ecc2-4840-b955-fc4fa74ed66a",
   "metadata": {},
   "outputs": [],
   "source": [
    "'''Q6. What are some potential drawbacks of using KNN as a classifier or regressor? How might you\n",
    "overcome these drawbacks to improve the performance of the model?'''\n",
    "\n",
    "'''rawbacks of using KNN as a classifier or regressor is time complexity\n",
    "it can be handled by using variants of KNN such as KD tree and Ball Tree\n",
    "'''"
   ]
  }
 ],
 "metadata": {
  "kernelspec": {
   "display_name": "Python 3 (ipykernel)",
   "language": "python",
   "name": "python3"
  },
  "language_info": {
   "codemirror_mode": {
    "name": "ipython",
    "version": 3
   },
   "file_extension": ".py",
   "mimetype": "text/x-python",
   "name": "python",
   "nbconvert_exporter": "python",
   "pygments_lexer": "ipython3",
   "version": "3.10.8"
  }
 },
 "nbformat": 4,
 "nbformat_minor": 5
}
