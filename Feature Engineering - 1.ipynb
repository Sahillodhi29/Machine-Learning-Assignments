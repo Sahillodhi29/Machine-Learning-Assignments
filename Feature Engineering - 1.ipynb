{
 "cells": [
  {
   "cell_type": "code",
   "execution_count": null,
   "id": "6d1ad08e-7a85-4ff7-b5c6-f13e19fd7ff9",
   "metadata": {},
   "outputs": [],
   "source": [
    "'''Q1. What is the Filter method in feature selection, and how does it work?'''\n",
    "'''\n",
    "\n",
    "filter is a method to select features from dataset using statistical properties.\n",
    "\n",
    "it calculates z score or ANOVA for the dataset and arrange them in a ranking manner.\n",
    "\n",
    "then it assumes a threshold value 'k' and then if the z score of feature is lessor than k, it will be discarded.\n",
    "\n",
    "\n",
    "'''"
   ]
  },
  {
   "cell_type": "code",
   "execution_count": null,
   "id": "9299daf0-b301-4bbb-a658-ccc41291866c",
   "metadata": {},
   "outputs": [],
   "source": [
    "'''Q2. How does the Wrapper method differ from the Filter method in feature selection?'''\n",
    "\n",
    "'''Filter methods are independent of the learning algorithm and use statistical measures,\n",
    "while wrapper methods depend on the performance of a specific machine learning algorithm and \n",
    "involve training and evaluating the model with different feature subsets. The choice between these \n",
    "methods depends on the specific characteristics of the dataset and the goals of the feature selection process.'''"
   ]
  },
  {
   "cell_type": "code",
   "execution_count": null,
   "id": "8741a6e5-7b39-43fb-8422-8271c95080ca",
   "metadata": {},
   "outputs": [],
   "source": [
    "'''Q3. What are some common techniques used in Embedded feature selection methods?'''\n",
    "'''\n",
    "in embedded feature the most relevant features are short listed and rest others are discards\n",
    "with different different methods . It depends on which machine learning algorithm or what are our \n",
    "requirements to use a ideal method .\n",
    "\n",
    "some embeeded feature selection methods:-\n",
    "\n",
    "1. L1 Regularization (LASSO)\n",
    "2. L2 regularization (ridge)\n",
    "3. elastic net \n",
    "4. Recursive Feature Elimination(RFE)\n",
    "'''"
   ]
  },
  {
   "cell_type": "code",
   "execution_count": null,
   "id": "747c0623-7bd2-4dd5-aa7d-1af4511de1cc",
   "metadata": {},
   "outputs": [],
   "source": [
    "'''Q4. What are some drawbacks of using the Filter method for feature selection?'''\n",
    "\n",
    "'''drawbacks of usinf filter for feature selection -\n",
    "\n",
    "1. since it is independent of machine learning algorithm , it may be possible it will not give us our desirable\n",
    "features for training the model.\n",
    "\n",
    "2. it is based on statistical properties like coreelation , etc , so there is a chance an important feature might get \n",
    "discarded because of low score .'''"
   ]
  },
  {
   "cell_type": "code",
   "execution_count": null,
   "id": "f26b5d9a-4ea8-4f90-89a1-aac06ab61cc6",
   "metadata": {},
   "outputs": [],
   "source": [
    "'''Q5. In which situations would you prefer using the Filter method over the Wrapper method for feature\n",
    "selection?'''\n",
    "'''\n",
    "the Filter method is preferred in situations where computational efficiency, dataset size, correlation and \n",
    "a quick initial assessment of feature relevance are crucial. '''"
   ]
  }
 ],
 "metadata": {
  "kernelspec": {
   "display_name": "Python 3 (ipykernel)",
   "language": "python",
   "name": "python3"
  },
  "language_info": {
   "codemirror_mode": {
    "name": "ipython",
    "version": 3
   },
   "file_extension": ".py",
   "mimetype": "text/x-python",
   "name": "python",
   "nbconvert_exporter": "python",
   "pygments_lexer": "ipython3",
   "version": "3.10.8"
  }
 },
 "nbformat": 4,
 "nbformat_minor": 5
}
