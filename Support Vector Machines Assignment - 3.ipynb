{
 "cells": [
  {
   "cell_type": "code",
   "execution_count": 1,
   "id": "50fad885-13e4-4a0a-9eba-5646fc814e83",
   "metadata": {},
   "outputs": [],
   "source": [
    "\n",
    "import pandas as pd"
   ]
  },
  {
   "cell_type": "code",
   "execution_count": 2,
   "id": "f17a1bc3-feac-450b-87e8-257ce032242a",
   "metadata": {},
   "outputs": [],
   "source": [
    "df=pd.read_excel('Bengaluru_House_Data.xlsx')"
   ]
  },
  {
   "cell_type": "code",
   "execution_count": 3,
   "id": "6a1489fe-3018-4c4a-8b08-de109cce056a",
   "metadata": {},
   "outputs": [
    {
     "data": {
      "text/html": [
       "<div>\n",
       "<style scoped>\n",
       "    .dataframe tbody tr th:only-of-type {\n",
       "        vertical-align: middle;\n",
       "    }\n",
       "\n",
       "    .dataframe tbody tr th {\n",
       "        vertical-align: top;\n",
       "    }\n",
       "\n",
       "    .dataframe thead th {\n",
       "        text-align: right;\n",
       "    }\n",
       "</style>\n",
       "<table border=\"1\" class=\"dataframe\">\n",
       "  <thead>\n",
       "    <tr style=\"text-align: right;\">\n",
       "      <th></th>\n",
       "      <th>area_type</th>\n",
       "      <th>availability</th>\n",
       "      <th>location</th>\n",
       "      <th>size</th>\n",
       "      <th>society</th>\n",
       "      <th>total_sqft</th>\n",
       "      <th>bath</th>\n",
       "      <th>balcony</th>\n",
       "      <th>price</th>\n",
       "    </tr>\n",
       "  </thead>\n",
       "  <tbody>\n",
       "    <tr>\n",
       "      <th>0</th>\n",
       "      <td>Super built-up  Area</td>\n",
       "      <td>2024-12-19 00:00:00</td>\n",
       "      <td>Electronic City Phase II</td>\n",
       "      <td>2 BHK</td>\n",
       "      <td>Coomee</td>\n",
       "      <td>1056</td>\n",
       "      <td>2.0</td>\n",
       "      <td>1.0</td>\n",
       "      <td>39.07</td>\n",
       "    </tr>\n",
       "    <tr>\n",
       "      <th>1</th>\n",
       "      <td>Plot  Area</td>\n",
       "      <td>Ready To Move</td>\n",
       "      <td>Chikka Tirupathi</td>\n",
       "      <td>4 Bedroom</td>\n",
       "      <td>Theanmp</td>\n",
       "      <td>2600</td>\n",
       "      <td>5.0</td>\n",
       "      <td>3.0</td>\n",
       "      <td>120.00</td>\n",
       "    </tr>\n",
       "    <tr>\n",
       "      <th>2</th>\n",
       "      <td>Built-up  Area</td>\n",
       "      <td>Ready To Move</td>\n",
       "      <td>Uttarahalli</td>\n",
       "      <td>3 BHK</td>\n",
       "      <td>NaN</td>\n",
       "      <td>1440</td>\n",
       "      <td>2.0</td>\n",
       "      <td>3.0</td>\n",
       "      <td>62.00</td>\n",
       "    </tr>\n",
       "    <tr>\n",
       "      <th>3</th>\n",
       "      <td>Super built-up  Area</td>\n",
       "      <td>Ready To Move</td>\n",
       "      <td>Lingadheeranahalli</td>\n",
       "      <td>3 BHK</td>\n",
       "      <td>Soiewre</td>\n",
       "      <td>1521</td>\n",
       "      <td>3.0</td>\n",
       "      <td>1.0</td>\n",
       "      <td>95.00</td>\n",
       "    </tr>\n",
       "    <tr>\n",
       "      <th>4</th>\n",
       "      <td>Super built-up  Area</td>\n",
       "      <td>Ready To Move</td>\n",
       "      <td>Kothanur</td>\n",
       "      <td>2 BHK</td>\n",
       "      <td>NaN</td>\n",
       "      <td>1200</td>\n",
       "      <td>2.0</td>\n",
       "      <td>1.0</td>\n",
       "      <td>51.00</td>\n",
       "    </tr>\n",
       "    <tr>\n",
       "      <th>...</th>\n",
       "      <td>...</td>\n",
       "      <td>...</td>\n",
       "      <td>...</td>\n",
       "      <td>...</td>\n",
       "      <td>...</td>\n",
       "      <td>...</td>\n",
       "      <td>...</td>\n",
       "      <td>...</td>\n",
       "      <td>...</td>\n",
       "    </tr>\n",
       "    <tr>\n",
       "      <th>5217</th>\n",
       "      <td>Super built-up  Area</td>\n",
       "      <td>Ready To Move</td>\n",
       "      <td>kanakapura main road</td>\n",
       "      <td>2 BHK</td>\n",
       "      <td>NaN</td>\n",
       "      <td>1041</td>\n",
       "      <td>2.0</td>\n",
       "      <td>1.0</td>\n",
       "      <td>36.44</td>\n",
       "    </tr>\n",
       "    <tr>\n",
       "      <th>5218</th>\n",
       "      <td>Built-up  Area</td>\n",
       "      <td>Ready To Move</td>\n",
       "      <td>Ambalipura</td>\n",
       "      <td>4 BHK</td>\n",
       "      <td>SJodsed</td>\n",
       "      <td>2550</td>\n",
       "      <td>4.0</td>\n",
       "      <td>2.0</td>\n",
       "      <td>149.00</td>\n",
       "    </tr>\n",
       "    <tr>\n",
       "      <th>5219</th>\n",
       "      <td>Built-up  Area</td>\n",
       "      <td>Ready To Move</td>\n",
       "      <td>Shampura</td>\n",
       "      <td>3 BHK</td>\n",
       "      <td>NaN</td>\n",
       "      <td>1400</td>\n",
       "      <td>3.0</td>\n",
       "      <td>1.0</td>\n",
       "      <td>70.00</td>\n",
       "    </tr>\n",
       "    <tr>\n",
       "      <th>5220</th>\n",
       "      <td>Plot  Area</td>\n",
       "      <td>Ready To Move</td>\n",
       "      <td>Anjanapura</td>\n",
       "      <td>1 Bedroom</td>\n",
       "      <td>NaN</td>\n",
       "      <td>600</td>\n",
       "      <td>2.0</td>\n",
       "      <td>0.0</td>\n",
       "      <td>55.00</td>\n",
       "    </tr>\n",
       "    <tr>\n",
       "      <th>5221</th>\n",
       "      <td>Built-up  Area</td>\n",
       "      <td>Ready To Move</td>\n",
       "      <td>Nagarbhavi</td>\n",
       "      <td>1 BHK</td>\n",
       "      <td>MaentNa</td>\n",
       "      <td>710</td>\n",
       "      <td>2.0</td>\n",
       "      <td>2.0</td>\n",
       "      <td>40.00</td>\n",
       "    </tr>\n",
       "  </tbody>\n",
       "</table>\n",
       "<p>5222 rows × 9 columns</p>\n",
       "</div>"
      ],
      "text/plain": [
       "                 area_type         availability                  location  \\\n",
       "0     Super built-up  Area  2024-12-19 00:00:00  Electronic City Phase II   \n",
       "1               Plot  Area        Ready To Move          Chikka Tirupathi   \n",
       "2           Built-up  Area        Ready To Move               Uttarahalli   \n",
       "3     Super built-up  Area        Ready To Move        Lingadheeranahalli   \n",
       "4     Super built-up  Area        Ready To Move                  Kothanur   \n",
       "...                    ...                  ...                       ...   \n",
       "5217  Super built-up  Area        Ready To Move      kanakapura main road   \n",
       "5218        Built-up  Area        Ready To Move                Ambalipura   \n",
       "5219        Built-up  Area        Ready To Move                  Shampura   \n",
       "5220            Plot  Area        Ready To Move                Anjanapura   \n",
       "5221        Built-up  Area        Ready To Move                Nagarbhavi   \n",
       "\n",
       "           size  society total_sqft  bath  balcony   price  \n",
       "0         2 BHK  Coomee        1056   2.0      1.0   39.07  \n",
       "1     4 Bedroom  Theanmp       2600   5.0      3.0  120.00  \n",
       "2         3 BHK      NaN       1440   2.0      3.0   62.00  \n",
       "3         3 BHK  Soiewre       1521   3.0      1.0   95.00  \n",
       "4         2 BHK      NaN       1200   2.0      1.0   51.00  \n",
       "...         ...      ...        ...   ...      ...     ...  \n",
       "5217      2 BHK      NaN       1041   2.0      1.0   36.44  \n",
       "5218      4 BHK  SJodsed       2550   4.0      2.0  149.00  \n",
       "5219      3 BHK      NaN       1400   3.0      1.0   70.00  \n",
       "5220  1 Bedroom      NaN        600   2.0      0.0   55.00  \n",
       "5221      1 BHK  MaentNa        710   2.0      2.0   40.00  \n",
       "\n",
       "[5222 rows x 9 columns]"
      ]
     },
     "execution_count": 3,
     "metadata": {},
     "output_type": "execute_result"
    }
   ],
   "source": [
    "df"
   ]
  },
  {
   "cell_type": "code",
   "execution_count": 7,
   "id": "6e247412-4b32-4c6a-b979-6565e92e84a9",
   "metadata": {},
   "outputs": [
    {
     "name": "stdout",
     "output_type": "stream",
     "text": [
      "<class 'pandas.core.frame.DataFrame'>\n",
      "RangeIndex: 5222 entries, 0 to 5221\n",
      "Data columns (total 9 columns):\n",
      " #   Column        Non-Null Count  Dtype  \n",
      "---  ------        --------------  -----  \n",
      " 0   area_type     5222 non-null   object \n",
      " 1   availability  5222 non-null   object \n",
      " 2   location      5221 non-null   object \n",
      " 3   size          5217 non-null   object \n",
      " 4   society       3039 non-null   object \n",
      " 5   total_sqft    5222 non-null   object \n",
      " 6   bath          5190 non-null   float64\n",
      " 7   balcony       4960 non-null   float64\n",
      " 8   price         5222 non-null   float64\n",
      "dtypes: float64(3), object(6)\n",
      "memory usage: 367.3+ KB\n"
     ]
    }
   ],
   "source": [
    "df.info()"
   ]
  },
  {
   "cell_type": "code",
   "execution_count": 5,
   "id": "74fcfd95-ccc6-4df8-8acf-b13aea2f6350",
   "metadata": {},
   "outputs": [],
   "source": [
    "import seaborn as sns "
   ]
  },
  {
   "cell_type": "code",
   "execution_count": 6,
   "id": "08795c9e-55b9-4391-ac79-b1cd852abcf4",
   "metadata": {},
   "outputs": [
    {
     "data": {
      "text/plain": [
       "<AxesSubplot: >"
      ]
     },
     "execution_count": 6,
     "metadata": {},
     "output_type": "execute_result"
    },
    {
     "data": {
      "image/png": "[encoded data removed]",
      "text/plain": [
       "<Figure size 640x480 with 1 Axes>"
      ]
     },
     "metadata": {},
     "output_type": "display_data"
    }
   ],
   "source": [
    "sns.boxplot(df)"
   ]
  },
  {
   "cell_type": "code",
   "execution_count": null,
   "id": "1d165d91-a78e-47e0-8e55-d4fdf3b80bdb",
   "metadata": {},
   "outputs": [],
   "source": [
    "'''Q1. In order to predict house price based on several characteristics, such as location, square footage,\n",
    "number of bedrooms, etc., you are developing an SVM regression model. Which regression metric in this\n",
    "situation would be the best to employ?'''\n",
    "'''\n",
    "as we can see that there so many outliers hence we would use mse, mae or rsme metric in this case.''' "
   ]
  },
  {
   "cell_type": "code",
   "execution_count": null,
   "id": "e7192ffc-15de-45a7-a359-0226edd99f44",
   "metadata": {},
   "outputs": [],
   "source": [
    "'''Q2. You have built an SVM regression model and are trying to decide between using MSE or R-squared as\n",
    "your evaluation metric. Which metric would be more appropriate if your goal is to predict the actual price\n",
    "of a house as accurately as possible?'''\n",
    "'''\n",
    "MSE metric would be more appropriate if your goal is to predict the actual price\n",
    "of a house as accurately'''"
   ]
  },
  {
   "cell_type": "code",
   "execution_count": null,
   "id": "52794deb-497a-4df7-b4ae-4ecf090e8e34",
   "metadata": {},
   "outputs": [],
   "source": [
    "'''Q4. You have built an SVM regression model using a polynomial kernel and are trying to select the best\n",
    "metric to evaluate its performance. You have calculated both MSE and RMSE and found that both values\n",
    "are very close. Which metric should you choose to use in this case?'''\n",
    "'''\n",
    "RMSE would be better to use because it will provide the performance accuracy in the same unit and more precise'''"
   ]
  },
  {
   "cell_type": "code",
   "execution_count": null,
   "id": "e5e4eb1a-3a4d-45e9-9b48-943845939193",
   "metadata": {},
   "outputs": [],
   "source": [
    "'''Q5. You are comparing the performance of different SVM regression models using different kernels (linear,\n",
    "polynomial, and RBF) and are trying to select the best evaluation metric. Which metric would be most\n",
    "appropriate if your goal is to measure how well the model explains the variance in the target variable?'''\n",
    "'''\n",
    "MSE would be apporpriate in this case as it explains the variance in the target variable well .'''"
   ]
  }
 ],
 "metadata": {
  "kernelspec": {
   "display_name": "Python 3 (ipykernel)",
   "language": "python",
   "name": "python3"
  },
  "language_info": {
   "codemirror_mode": {
    "name": "ipython",
    "version": 3
   },
   "file_extension": ".py",
   "mimetype": "text/x-python",
   "name": "python",
   "nbconvert_exporter": "python",
   "pygments_lexer": "ipython3",
   "version": "3.10.8"
  }
 },
 "nbformat": 4,
 "nbformat_minor": 5
}
