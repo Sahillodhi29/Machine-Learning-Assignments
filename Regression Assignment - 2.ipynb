{
 "cells": [
  {
   "cell_type": "code",
   "execution_count": null,
   "id": "5ea9a787-9ec7-400b-9954-ecf47e8d1c1c",
   "metadata": {},
   "outputs": [],
   "source": [
    "'''Q1. Explain the concept of R-squared in linear regression models. How is it calculated, and what does it\n",
    "represent?'''\n",
    "'''\n",
    "R-squared is used to check the performance of the model.\n",
    "\n",
    "it is calculated by \n",
    "\n",
    "R-squared=(1-SSRES)/(1-SStotal)\n",
    "\n",
    "where SSRES is sum of squares residual\n",
    "and SStotal is sum of squares total\n",
    "\n",
    "it represent accuracy of the model , how good the model is able to predict for the new data points .'''"
   ]
  },
  {
   "cell_type": "code",
   "execution_count": null,
   "id": "aa24e978-0649-4030-ac6b-2c5b561467f9",
   "metadata": {},
   "outputs": [],
   "source": [
    "'''Q2. Define adjusted R-squared and explain how it differs from the regular R-squared.'''\n",
    "\n",
    "'''adjusted R-squared is also used to check the performance , accuracy of the model \n",
    "\n",
    "it's accuracy is always less than R squared \n",
    "\n",
    "it differs from R squared because whenever a new feature is added to the dataset , it's accuracy increases whether it has\n",
    "impact on output feature or not \n",
    "\n",
    "whereas inn Adjusted R squared whenever a new feature is added to the dataset , it firstly check the relation of it too output \n",
    "feature then accuracy changes according to it. '''"
   ]
  },
  {
   "cell_type": "code",
   "execution_count": null,
   "id": "9c57f767-8cca-403f-9519-b9384ea3abed",
   "metadata": {},
   "outputs": [],
   "source": [
    "'''Q3. When is it more appropriate to use adjusted R-squared?'''\n",
    "'''\n",
    "when there are many features which don't reaaly impact the output feature , we should use Adjusted R squared'''"
   ]
  },
  {
   "cell_type": "code",
   "execution_count": null,
   "id": "b8c5453c-b684-4fa9-b5f7-0190c5ba0a67",
   "metadata": {},
   "outputs": [],
   "source": [
    "'''Q4. What are RMSE, MSE, and MAE in the context of regression analysis? How are these metrics\n",
    "calculated, and what do they represent?'''\n",
    "'''\n",
    "these values shows how much error is their between predicted and actual data .\n",
    "\n",
    "from sklearn.metrics import mean_squared_error , mean_absolute_error\n",
    "mse=mean_squared_error(y_test,y_pred_test)\n",
    "mae=mean_absolute_error(y_test,y_pred_test)\n",
    "rsme=np.sqrt(mean_squared_error(y_test,y_pred_test))\n",
    "'''\n"
   ]
  },
  {
   "cell_type": "code",
   "execution_count": null,
   "id": "f9e94f48-2765-40fe-818b-25903e530948",
   "metadata": {},
   "outputs": [],
   "source": [
    "'''Q5. Discuss the advantages and disadvantages of using RMSE, MSE, and MAE as evaluation metrics in\n",
    "regression analysis.'''\n",
    "'''\n",
    "MSE\n",
    "\n",
    "advantages\n",
    "\n",
    "- differentiable\n",
    "-only one local / global minima \n",
    "\n",
    "disadvantages\n",
    "\n",
    "-not robust to outliers\n",
    "-not in same unit \n",
    "\n",
    "MAE\n",
    "\n",
    "advantages\n",
    "\n",
    "- robust to outliers\n",
    "- same unit \n",
    "\n",
    "disadvantages\n",
    "\n",
    "-takes time in convergence\n",
    "\n",
    "\n",
    "RMSE\n",
    "\n",
    "advantages\n",
    "\n",
    "- same unit \n",
    "-differentiable\n",
    "\n",
    "disadvantages\n",
    "\n",
    "-not robust to outliers '''"
   ]
  },
  {
   "cell_type": "code",
   "execution_count": null,
   "id": "97ddaf96-be79-483c-842f-ead00af8f89e",
   "metadata": {},
   "outputs": [],
   "source": [
    "'''Q6. Explain the concept of Lasso regularization. How does it differ from Ridge regularization, and when is\n",
    "it more appropriate to use?'''\n",
    "\n",
    "'''lasso or l1 regularization helps feature selection \n",
    "\n",
    "ridge or l2 regularization helps to reduce overfitting'''"
   ]
  }
 ],
 "metadata": {
  "kernelspec": {
   "display_name": "Python 3 (ipykernel)",
   "language": "python",
   "name": "python3"
  },
  "language_info": {
   "codemirror_mode": {
    "name": "ipython",
    "version": 3
   },
   "file_extension": ".py",
   "mimetype": "text/x-python",
   "name": "python",
   "nbconvert_exporter": "python",
   "pygments_lexer": "ipython3",
   "version": "3.10.8"
  }
 },
 "nbformat": 4,
 "nbformat_minor": 5
}
