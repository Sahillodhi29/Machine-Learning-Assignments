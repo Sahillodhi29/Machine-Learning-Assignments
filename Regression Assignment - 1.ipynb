{
 "cells": [
  {
   "cell_type": "code",
   "execution_count": null,
   "id": "d7cb3f36-02b8-4a2d-9f7f-9ad3a4649712",
   "metadata": {},
   "outputs": [],
   "source": [
    "'''Q1. Explain the difference between simple linear regression and multiple linear regression. Provide an\n",
    "example of each.'''\n",
    "'''\n",
    "simple linear regression - in this there is only one independent or input feature and one output feature \n",
    "\n",
    "example - we are predictinf height using weight feature \n",
    "\n",
    "\n",
    "multiple linear regression- in this there are more than one independent feature and one dependent feature\n",
    "\n",
    "example- we are predicting the house price using number of rooms and area features '''"
   ]
  },
  {
   "cell_type": "code",
   "execution_count": null,
   "id": "54c8bc44-565e-4a69-a2ba-4e8a095e7998",
   "metadata": {},
   "outputs": [],
   "source": [
    "'''Q2. Discuss the assumptions of linear regression. How can you check whether these assumptions hold in\n",
    "a given dataset?'''\n",
    "'''\n",
    "assumptions of linear regression-\n",
    "\n",
    "the realtionship between the input and output feature should be linear \n",
    "\n",
    "the sum of the errors of the best fit line should be minimal . \n",
    "\n",
    "yes we can the assumptions by plotting it's graph '''"
   ]
  },
  {
   "cell_type": "code",
   "execution_count": null,
   "id": "1ca75c6d-8bb5-424a-baaf-2140cf4e7395",
   "metadata": {},
   "outputs": [],
   "source": [
    "'''Q3. How do you interpret the slope and intercept in a linear regression model? Provide an example using\n",
    "a real-world scenario.'''\n",
    "''''\n",
    "intercept is denoted by theta0 and it's the value of output feature when the input feature is 0\n",
    "\n",
    "also slope is the distance travelled by output feature when input feature travels a distance ,i.e.. (delta y / delta x) '''"
   ]
  },
  {
   "cell_type": "code",
   "execution_count": null,
   "id": "1029c9b6-48a2-44e1-a9ae-fc2e4bcc483f",
   "metadata": {},
   "outputs": [],
   "source": [
    "'''Q4. Explain the concept of gradient descent. How is it used in machine learning?'''\n",
    "'''\n",
    "gradient decent is the graph formed by different values of theta0 and theta1 . it's usuallu a bell curve \n",
    "at which we try to get to the global minima so that sum of errors can be minimal and we could get the best fit line for the\n",
    "simple linear regression '''"
   ]
  },
  {
   "cell_type": "code",
   "execution_count": null,
   "id": "532d18ed-cbcd-4253-ace7-15e098eea1db",
   "metadata": {},
   "outputs": [],
   "source": [
    "'''Q5. Describe the multiple linear regression model. How does it differ from simple linear regression?'''\n",
    "\n",
    "'''\n",
    "multiple linear regression- in this there are more than one independent feature and one dependent feature\n",
    "\n",
    "example- we are predicting the house price using number of rooms and area features \n",
    "\n",
    "it differs from simple linear regression because it has more than 1 input feature'''"
   ]
  },
  {
   "cell_type": "code",
   "execution_count": null,
   "id": "ca6371eb-3e4c-4dd1-ad0e-fc1b2c81383e",
   "metadata": {},
   "outputs": [],
   "source": [
    "'''Q7. Describe the polynomial regression model. How is it different from linear regression?'''\n",
    "'''\n",
    "in polynomial regression , the relationship between the input and output feature is not linear \n",
    "\n",
    "it uses the concept of polynomial degree to get best fit curve for the features in ordee to train the model . '''"
   ]
  },
  {
   "cell_type": "code",
   "execution_count": null,
   "id": "31a3d042-bace-49cc-81b5-acd6c0fa6644",
   "metadata": {},
   "outputs": [],
   "source": [
    "'''Q8. What are the advantages and disadvantages of polynomial regression compared to linear\n",
    "regression? In what situations would you prefer to use polynomial regression?'''\n",
    "'''\n",
    "advantages - it can be used where the relationship between the input and output feature is not linear\n",
    "\n",
    "disadvantages - it's more complex than linear regression'''"
   ]
  }
 ],
 "metadata": {
  "kernelspec": {
   "display_name": "Python 3 (ipykernel)",
   "language": "python",
   "name": "python3"
  },
  "language_info": {
   "codemirror_mode": {
    "name": "ipython",
    "version": 3
   },
   "file_extension": ".py",
   "mimetype": "text/x-python",
   "name": "python",
   "nbconvert_exporter": "python",
   "pygments_lexer": "ipython3",
   "version": "3.10.8"
  }
 },
 "nbformat": 4,
 "nbformat_minor": 5
}
