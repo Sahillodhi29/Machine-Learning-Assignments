{
 "cells": [
  {
   "cell_type": "code",
   "execution_count": null,
   "id": "66dfc82b-170b-431c-b8f3-5ae92aee10f4",
   "metadata": {},
   "outputs": [],
   "source": [
    "'''Q1. What is Lasso Regression, and how does it differ from other regression techniques?'''\n",
    "'''\n",
    "Lasso Regression helps in feature selection \n",
    "\n",
    "it shrinks the coefficients to exact zero values \n",
    "\n",
    "it has a term with SME as lambda with summation of exact value of slopes '''"
   ]
  },
  {
   "cell_type": "code",
   "execution_count": null,
   "id": "6ccc4158-fc22-420f-9236-a041328523bd",
   "metadata": {},
   "outputs": [],
   "source": [
    "'''Q2. What is the main advantage of using Lasso Regression in feature selection?'''\n",
    "'''\n",
    "The main advantage of using Lasso Regression in feature selection lies in its ability\n",
    "to produce sparse models by forcing some of the coefficients to be exactly zero. \n",
    "This property is particularly beneficial for feature selection '''"
   ]
  },
  {
   "cell_type": "code",
   "execution_count": null,
   "id": "00a9d6b4-a385-4eb7-ba79-e633c635fd66",
   "metadata": {},
   "outputs": [],
   "source": [
    "'''Q3. How do you interpret the coefficients of a Lasso Regression model?'''\n",
    "'''\n",
    "coefficient which become zero after lasso regularization ,will get excluded\n",
    "\n",
    "and the rest of the coefficients will contribute to the model performance.'''"
   ]
  },
  {
   "cell_type": "code",
   "execution_count": null,
   "id": "7b451aa4-ebde-4d1f-a7d2-b395a800c70c",
   "metadata": {},
   "outputs": [],
   "source": [
    "'''Q4. What are the tuning parameters that can be adjusted in Lasso Regression, and how do they affect the\n",
    "model's performance?'''\n",
    "'''\n",
    "\n",
    "tuning parameters-\n",
    "    \n",
    "lambda - lambda is the main tuning feature in the Lasso Regression \n",
    "            it tells the strength of regularization \n",
    "            the more the value of lambda , the more coefficients will be pushed to zero\n",
    "        '''"
   ]
  },
  {
   "cell_type": "code",
   "execution_count": null,
   "id": "7ccec028-e51b-44f3-95c6-b5d1495f6c7b",
   "metadata": {},
   "outputs": [],
   "source": [
    "'''Q6. What is the difference between Ridge Regression and Lasso Regression?'''\n",
    "'''\n",
    "Ridge Regression is also known as l2 regularization \n",
    "and it helps to prevent overfiiting in model \n",
    "\n",
    "it uses a penalty term which has lambda and summation of squares of slopes\n",
    "\n",
    "In Ridge Regression, the L2 penalty term encourages the model to shrink the coefficients toward zero\n",
    "\n",
    "\n",
    "whereas Lasso Regression helps in feature selection \n",
    "\n",
    "it shrinks the coefficients to exact zero values \n",
    "\n",
    "it has a term with SME as lambda with summation of exact value of slopes'''"
   ]
  }
 ],
 "metadata": {
  "kernelspec": {
   "display_name": "Python 3 (ipykernel)",
   "language": "python",
   "name": "python3"
  },
  "language_info": {
   "codemirror_mode": {
    "name": "ipython",
    "version": 3
   },
   "file_extension": ".py",
   "mimetype": "text/x-python",
   "name": "python",
   "nbconvert_exporter": "python",
   "pygments_lexer": "ipython3",
   "version": "3.10.8"
  }
 },
 "nbformat": 4,
 "nbformat_minor": 5
}
