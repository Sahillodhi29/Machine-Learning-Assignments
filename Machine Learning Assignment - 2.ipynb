{
 "cells": [
  {
   "cell_type": "code",
   "execution_count": null,
   "id": "072b8318-3e7a-40c0-9b4a-c49c46589833",
   "metadata": {},
   "outputs": [],
   "source": [
    "'''Q1: Define overfitting and underfitting in machine learning. What are the consequences of each, and how\n",
    "can they be mitigated?'''\n",
    "\n",
    "''' overfitting - train- accuracy-high => low bias \n",
    "              test - accuracy- low => high variance \n",
    "    \n",
    "underfiiting - train - accuracy-low => high bias\n",
    "               test  - accuracy - low => low variance \n",
    "    \n",
    "to solve this problem we try to make a generalised model-\n",
    "where \n",
    "     train dataset - accuracy high => low bias \n",
    "     test dataset - accuracy high => low variance '''\n",
    "        "
   ]
  },
  {
   "cell_type": "code",
   "execution_count": null,
   "id": "d980c9db-7533-463e-9956-9617647c4193",
   "metadata": {},
   "outputs": [],
   "source": [
    "'''Q2: How can we reduce overfitting? Explain in brief.'''\n",
    "'''\n",
    "we can reduce overfitting by training the train dataset moderately so that it won't be low bias \n",
    "and the variation in the data will also get diminshed. '''"
   ]
  },
  {
   "cell_type": "code",
   "execution_count": null,
   "id": "5fae6995-de85-409e-a2d6-dec3d2201e6d",
   "metadata": {},
   "outputs": [],
   "source": [
    "'''Q3: Explain underfitting. List scenarios where underfitting can occur in ML.'''\n",
    "'''\n",
    "underfiiting - train - accuracy-low => low bias\n",
    "               test  - accuracy - low => low variance \n",
    "    \n",
    "scenarios where underfitting can occur in ML\n",
    "\n",
    "1. when the model is not sufficiently trained \n",
    "2. when the model has low learning capacity\n",
    "3. when the model is too simple and lack complexity  '''"
   ]
  },
  {
   "cell_type": "code",
   "execution_count": null,
   "id": "1ea4874f-f827-4531-be57-0b574b421ec9",
   "metadata": {},
   "outputs": [],
   "source": [
    "'''Q4: Explain the bias-variance tradeoff in machine learning. What is the relationship between bias and\n",
    "variance, and how do they affect model performance?'''\n",
    "'''\n",
    "when a model is underfiited or overfitted bias-variance tradeoff occur.\n",
    "\n",
    "bias defines the train dataset accuracy\n",
    "\n",
    "if train dataset has low accuracy then it will be high bias \n",
    "and if the train dataset accuracy is high then it will be low bias\n",
    "\n",
    "variance defines the test dataset accuracy\n",
    "\n",
    "if test dataset has low accuracy then it will be high variance\n",
    "and if the test dataset accuracy is high then it will be low variance '''"
   ]
  },
  {
   "cell_type": "code",
   "execution_count": null,
   "id": "3df9b6d1-408a-443c-91aa-a7b09a761cee",
   "metadata": {},
   "outputs": [],
   "source": [
    "'''Q5: Discuss some common methods for detecting overfitting and underfitting in machine learning models.\n",
    "How can you determine whether your model is overfitting or underfitting?'''\n",
    "'''\n",
    "common methods for detecting overfitting and underfitting in machine learning models-\n",
    "\n",
    "validation curve \n",
    "\n",
    "cross-validation'''\n"
   ]
  },
  {
   "cell_type": "code",
   "execution_count": null,
   "id": "177b8a5a-7e62-495e-a982-f7d88c9c8b30",
   "metadata": {},
   "outputs": [],
   "source": [
    "'''Q6: Compare and contrast bias and variance in machine learning. What are some examples of high bias\n",
    "and high variance models, and how do they differ in terms of their performance?'''\n",
    "\n",
    "'''bias defines the train dataset accuracy\n",
    "\n",
    "if train dataset has low accuracy then it will be high bias \n",
    "and if the train dataset accuracy is high then it will be low bias\n",
    "\n",
    "variance defines the test dataset accuracy\n",
    "\n",
    "if test dataset has low accuracy then it will be high variance\n",
    "and if the test dataset accuracy is high then it will be low variance \n",
    "\n",
    "'''"
   ]
  },
  {
   "cell_type": "code",
   "execution_count": null,
   "id": "9c5c2126-8282-40cb-aa95-155e0d3de239",
   "metadata": {},
   "outputs": [],
   "source": [
    "'''Q7: What is regularization in machine learning, and how can it be used to prevent overfitting? Describe\n",
    "some common regularization techniques and how they work.'''\n",
    "\n",
    "'''Generalization is amethod used to prevent overfitting by penalizing the train dataset and discouraging complex and \n",
    "new data so it can perform well not only on training dataset but also the new or unseen data.\n",
    "\n",
    "common regularization techniques\n",
    "\n",
    "L1 generaliztion \n",
    "\n",
    "L2 generalization '''"
   ]
  }
 ],
 "metadata": {
  "kernelspec": {
   "display_name": "Python 3 (ipykernel)",
   "language": "python",
   "name": "python3"
  },
  "language_info": {
   "codemirror_mode": {
    "name": "ipython",
    "version": 3
   },
   "file_extension": ".py",
   "mimetype": "text/x-python",
   "name": "python",
   "nbconvert_exporter": "python",
   "pygments_lexer": "ipython3",
   "version": "3.10.8"
  }
 },
 "nbformat": 4,
 "nbformat_minor": 5
}
