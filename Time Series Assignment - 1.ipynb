{
 "cells": [
  {
   "cell_type": "code",
   "execution_count": null,
   "id": "3ddd8a9d-e442-434b-8f83-735a15196cac",
   "metadata": {},
   "outputs": [],
   "source": [
    "'''Q1. What is a time series, and what are some common applications of time series analysis?'''\n",
    "'''\n",
    "time series or time series data is a data which is time oriented or time dependent data \n",
    "\n",
    "some common applications of time series analysis are-\n",
    "\n",
    "sales \n",
    "\n",
    "stocks\n",
    "\n",
    "weather report '''\n",
    "\n"
   ]
  },
  {
   "cell_type": "code",
   "execution_count": null,
   "id": "a823ce62-2320-4439-b94b-46bad19a5ef5",
   "metadata": {},
   "outputs": [],
   "source": [
    "'''Q2. What are some common time series patterns, and how can they be identified and interpreted?'''\n",
    "\n",
    "'''Common time series patterns include trend, seasonality, and cycles. Trends represent long-term movements,\n",
    "seasonality is a repeating pattern within a fixed time period, and cycles are irregular fluctuations.\n",
    "Identifying these patterns involves statistical methods like decomposition, and interpreting them helps \n",
    "in understanding underlying factors influencing the data over time.'''"
   ]
  },
  {
   "cell_type": "code",
   "execution_count": null,
   "id": "2c7b5633-3562-4b4f-b857-a719f51ec054",
   "metadata": {},
   "outputs": [],
   "source": [
    "'''Q3. How can time series data be preprocessed before applying analysis techniques?'''\n",
    "'''\n",
    "we can check for outliers ,any null values , we can normalize the data if necessary \n",
    "and converting the data into stationary data and then spliting it into train test data. '''"
   ]
  },
  {
   "cell_type": "code",
   "execution_count": null,
   "id": "5ac36908-90ae-4c78-bd17-f23f1ec6fc3e",
   "metadata": {},
   "outputs": [],
   "source": [
    "'''Q4. How can time series forecasting be used in business decision-making, and what are some common\n",
    "challenges and limitations?'''\n",
    "\n",
    "'''Time series forecasting aids business decisions by predicting future trends and aiding planning. \n",
    "It helps optimize inventory, staffing, and resource allocation. Challenges include data noise, complex patterns,\n",
    "and unexpected events, while limitations involve uncertainty in predicting unique events and potential inaccuracies\n",
    "in models due to changing business conditions.\n",
    "'''"
   ]
  },
  {
   "cell_type": "code",
   "execution_count": null,
   "id": "8001dff9-b8e3-4cec-a2e4-96637f841356",
   "metadata": {},
   "outputs": [],
   "source": [
    "'''Q5. What is ARIMA modelling, and how can it be used to forecast time series data?'''\n",
    "\n",
    "'''ARIMA (AutoRegressive Integrated Moving Average) is a time series forecasting method. \n",
    "\n",
    "It combines autoregression, differencing, and moving averages. ARIMA models capture trend and seasonality. \n",
    "Fit the model to historical data, and use it to predict future values. Adjust parameters based on data characteristics\n",
    "for accurate forecasts'''"
   ]
  },
  {
   "cell_type": "code",
   "execution_count": null,
   "id": "cdbca261-937c-4f0a-8f3b-c4592e8e40f5",
   "metadata": {},
   "outputs": [],
   "source": [
    "'''Q6. How do Autocorrelation Function (ACF) and Partial Autocorrelation Function (PACF) plots help in\n",
    "identifying the order of ARIMA models?'''\n",
    "\n",
    "'''Autocorrelation Function (ACF) and Partial Autocorrelation Function (PACF) plots aid ARIMA model order identification.\n",
    "ACF shows correlation at different lags, helping identify moving average (MA) order. PACF isolates direct correlations,\n",
    "aiding in autoregressive (AR) order determination. Patterns in these plots guide selection of ARIMA model parameters \n",
    "for accurate forecasting.\n",
    "'''"
   ]
  }
 ],
 "metadata": {
  "kernelspec": {
   "display_name": "Python 3 (ipykernel)",
   "language": "python",
   "name": "python3"
  },
  "language_info": {
   "codemirror_mode": {
    "name": "ipython",
    "version": 3
   },
   "file_extension": ".py",
   "mimetype": "text/x-python",
   "name": "python",
   "nbconvert_exporter": "python",
   "pygments_lexer": "ipython3",
   "version": "3.10.8"
  }
 },
 "nbformat": 4,
 "nbformat_minor": 5
}
