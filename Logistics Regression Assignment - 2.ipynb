{
 "cells": [
  {
   "cell_type": "code",
   "execution_count": null,
   "id": "77f047b5-3e6f-40ff-84b0-382d9df6db30",
   "metadata": {},
   "outputs": [],
   "source": [
    "'''Q1. What is the purpose of grid search cv in machine learning, and how does it work?'''\n",
    "'''\n",
    "grid search cv is used for hyperparameter tuning \n",
    "\n",
    "it is used to select the best paramters so that we can train the model according to it in order to get\n",
    "the highest accuracy\n",
    "\n",
    "it has paramters like 'C' , 'penalty' , 'solver' , etc. '''"
   ]
  },
  {
   "cell_type": "code",
   "execution_count": null,
   "id": "2f401bb6-52e1-492f-bec4-f7dddc213144",
   "metadata": {},
   "outputs": [],
   "source": [
    "'''Q2. Describe the difference between grid search cv and randomize search cv, and when might you choose\n",
    "one over the other?'''\n",
    "'''\n",
    "Grid Search considers all possible combinations of hyperparameters.\n",
    "whereas Randomized Search consider some fixed combinations of hyperparameters.\n",
    "\n",
    "so when the  hyperparameter space is small ,use grid search cv and if it's large then use Randomized search cv '''"
   ]
  },
  {
   "cell_type": "code",
   "execution_count": null,
   "id": "518b9e26-074a-409d-9f2f-60b0d62d5fa3",
   "metadata": {},
   "outputs": [],
   "source": [
    "'''Q3. What is data leakage, and why is it a problem in machine learning? Provide an example.'''\n",
    "'''\n",
    "data leakage is a situation when accidently we give the test dataset to train the model \n",
    "hence it will going to erform well for test dataset but not for new data . '''"
   ]
  },
  {
   "cell_type": "code",
   "execution_count": null,
   "id": "99fe319a-0026-418b-8891-2f625dd9f668",
   "metadata": {},
   "outputs": [],
   "source": [
    "'''Q4. How can you prevent data leakage when building a machine learning model?'''\n",
    "\n",
    "'''by using train test split so that test data will not come in contact with the training model'''"
   ]
  },
  {
   "cell_type": "code",
   "execution_count": null,
   "id": "6e5d5565-ee49-40e2-b4bc-cdcddb8bdcc3",
   "metadata": {},
   "outputs": [],
   "source": [
    "'''Q5. What is a confusion matrix, and what does it tell you about the performance of a classification model?'''\n",
    "'''\n",
    "confusing matrix is used as performance metrics\n",
    "\n",
    "it is a 2*2 matrix which has four values counts \n",
    "true positive false positive\n",
    "false negetive true negetive\n",
    "\n",
    "we can find accuracy also using confusion matrix '''"
   ]
  }
 ],
 "metadata": {
  "kernelspec": {
   "display_name": "Python 3 (ipykernel)",
   "language": "python",
   "name": "python3"
  },
  "language_info": {
   "codemirror_mode": {
    "name": "ipython",
    "version": 3
   },
   "file_extension": ".py",
   "mimetype": "text/x-python",
   "name": "python",
   "nbconvert_exporter": "python",
   "pygments_lexer": "ipython3",
   "version": "3.10.8"
  }
 },
 "nbformat": 4,
 "nbformat_minor": 5
}
