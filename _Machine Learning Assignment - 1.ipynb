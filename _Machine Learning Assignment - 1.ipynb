{
 "cells": [
  {
   "cell_type": "code",
   "execution_count": null,
   "id": "ae7cd259-dd89-416d-a3c4-7aeb0fec5abb",
   "metadata": {},
   "outputs": [],
   "source": [
    "'''Q1 explain the following with an example \n",
    "1) Artificial Intelligence\n",
    "2) Machine Learning\n",
    "3) Deep Learning'''\n",
    "'''\n",
    "Artificial Intelligence \n",
    "\n",
    "a smart techinque on the basis of which machines can do all his work without any human intervention.\n",
    "example- autodriving cars.\n",
    "\n",
    "\n",
    "Machine Learning \n",
    "\n",
    "a subset of AI\n",
    "a development of computer systems which enables them to learn and adapt like a human do\n",
    "with a continuously improving accuracy.example - recommendation systems \n",
    "\n",
    "\n",
    "Deep Learning \n",
    "\n",
    "it is a subset machine learning which basically mimic the human brain . example-chatbots. '''"
   ]
  },
  {
   "cell_type": "code",
   "execution_count": null,
   "id": "b79b3e06-ba37-4bcc-89ca-ccfdc4b05ca9",
   "metadata": {},
   "outputs": [],
   "source": [
    "'''Q2- What is supervised learning? List some examples of supervised learning.'''\n",
    "\n",
    "'''\n",
    "supervised learning-\n",
    "\n",
    "in this the output is already known and hence we train our dataset according to it .\n",
    "\n",
    "there are two types of supervised learning \n",
    "\n",
    "1. classification supervised learning -in this the output is categorical\n",
    "\n",
    "   example-student pass or fail on the basis of number of hours he plays and number of hours he studied\n",
    "\n",
    "2. regression supervised learning - in this the output is continuous \n",
    "\n",
    "   example - price of house on the basis of number of rooms and number of people living \n",
    "    \n",
    "    '''"
   ]
  },
  {
   "cell_type": "code",
   "execution_count": null,
   "id": "30b71a6d-25b0-4a82-97af-ab76165b28d5",
   "metadata": {},
   "outputs": [],
   "source": [
    "'''Q3- What is unsupervsised learning List some examples of unsupervised learning.'''\n",
    "'''\n",
    "In  unsupervsised learning , we don't know the output but here we form clusters or groups of similar data and then make \n",
    "decisions by observing the graph.\n",
    "\n",
    "for example there are different categories for sale of smartphones. some with high expenditure and some with low expenditure\n",
    "so we can form clusters and can target our desired customers.'''"
   ]
  },
  {
   "cell_type": "code",
   "execution_count": null,
   "id": "2620e07d-426e-45a5-9291-d6db14eaaed6",
   "metadata": {},
   "outputs": [],
   "source": [
    "'''Q4- What is the difference between AI, ML, DL, and DS?'''\n",
    "'''\n",
    "AI - it's a smart technique which allow machines or applications to perform their tasks without any human intervention.\n",
    "     example-automatic vehicles\n",
    "    \n",
    "ML - it provides stats tools which help to analyze,visualize,and do predictions for the data.it is usually used in \n",
    "     recommendation systems.\n",
    "    \n",
    "DL - it basically try to mimic the human brain. example- chatbots\n",
    "\n",
    "DS- DS includes everything above in it . '''"
   ]
  },
  {
   "cell_type": "code",
   "execution_count": null,
   "id": "8315b185-fd09-4e3a-9c16-939e62b578c4",
   "metadata": {},
   "outputs": [],
   "source": [
    "'''Q6- What is train, test and validation split? explain the importance of each term.'''\n",
    "\n",
    "'''these all the steps to build a ML model.\n",
    "\n",
    "firstly we use Train to train the dataset.\n",
    "\n",
    "then we use validation for hypertuning of dataset.\n",
    "\n",
    "then finally we use Test for testing our Dataset.'''"
   ]
  },
  {
   "cell_type": "code",
   "execution_count": null,
   "id": "d4b99b7f-9b5f-4e24-8bfd-27af7fc9b37e",
   "metadata": {},
   "outputs": [],
   "source": []
  },
  {
   "cell_type": "code",
   "execution_count": null,
   "id": "14c62c87-8c6e-4bb0-bb3a-81d06d8b4882",
   "metadata": {},
   "outputs": [],
   "source": []
  },
  {
   "cell_type": "code",
   "execution_count": null,
   "id": "b2d72f6a-7a69-4d30-ad50-46410b5f92fc",
   "metadata": {},
   "outputs": [],
   "source": []
  },
  {
   "cell_type": "code",
   "execution_count": null,
   "id": "e3977171-4e96-4e40-9f82-ed73583060b6",
   "metadata": {},
   "outputs": [],
   "source": []
  }
 ],
 "metadata": {
  "kernelspec": {
   "display_name": "Python 3 (ipykernel)",
   "language": "python",
   "name": "python3"
  },
  "language_info": {
   "codemirror_mode": {
    "name": "ipython",
    "version": 3
   },
   "file_extension": ".py",
   "mimetype": "text/x-python",
   "name": "python",
   "nbconvert_exporter": "python",
   "pygments_lexer": "ipython3",
   "version": "3.10.8"
  }
 },
 "nbformat": 4,
 "nbformat_minor": 5
}
