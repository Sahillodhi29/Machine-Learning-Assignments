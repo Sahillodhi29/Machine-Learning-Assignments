{
 "cells": [
  {
   "cell_type": "code",
   "execution_count": null,
   "id": "02931478-e7cb-4142-add8-f63a099c935f",
   "metadata": {},
   "outputs": [],
   "source": [
    "'''Q1. What is an ensemble technique in machine learning?'''\n",
    "'''\n",
    "ensemble technique is used to combine multiple models to improve performance \n",
    "\n",
    "ensemble has two types of techniques :\n",
    "    \n",
    "1. Bagging technique\n",
    "\n",
    "in bagging technique we firstly decide the size of dataset and slpit it into train and test datasets\n",
    "\n",
    "then we use the bootstrap aggregration \n",
    "\n",
    "in this firstly we create n numbers of base learners which comprises of different different models \n",
    "\n",
    "then each on of them given a subset of train dataset and trained on it \n",
    "\n",
    "and then voting classifier happens which decide the final predicted output \n",
    "\n",
    "if the output is a classification type data then the value with maximum number of occurence will be selected as the output \n",
    "\n",
    "and if the output is a regressor type data then the avg value of the outputs of different models will be \n",
    "selected as the predicted ouput\n",
    "\n",
    "\n",
    "2. Boosting technique\n",
    "\n",
    "it has three different boosting techniques\n",
    "\n",
    "1. adaboost\n",
    "\n",
    "2. gradient boost\n",
    "\n",
    "3. Xg boost '''"
   ]
  },
  {
   "cell_type": "code",
   "execution_count": null,
   "id": "3f28f383-20b1-4736-8641-26d46f8d0ee6",
   "metadata": {},
   "outputs": [],
   "source": [
    "'''Q2. Why are ensemble techniques used in machine learning?'''\n",
    "\n",
    "# to improve the performance of the model "
   ]
  },
  {
   "cell_type": "code",
   "execution_count": null,
   "id": "108ce1b8-cf2e-4608-ae71-a315a3995be8",
   "metadata": {},
   "outputs": [],
   "source": [
    "'''Q3. What is bagging?'''\n",
    "'''\n",
    "in bagging technique we firstly decide the size of dataset and slpit it into train and test datasets\n",
    "\n",
    "then we use the bootstrap aggregration \n",
    "\n",
    "in this firstly we create n numbers of base learners which comprises of different different models \n",
    "\n",
    "then each on of them given a subset of train dataset and trained on it \n",
    "\n",
    "and then voting classifier happens which decide the final predicted output \n",
    "\n",
    "if the output is a classification type data then the value with maximum number of occurence will be selected as the output \n",
    "\n",
    "and if the output is a regressor type data then the avg value of the outputs of different models will be \n",
    "selected as the predicted ouput'''"
   ]
  },
  {
   "cell_type": "code",
   "execution_count": null,
   "id": "afc05a7c-e439-4e34-bf09-f4d21657d095",
   "metadata": {},
   "outputs": [],
   "source": [
    "'''Q4. What is boosting?'''\n",
    "\n",
    "'''2. Boosting technique\n",
    "\n",
    "it has three different boosting techniques\n",
    "\n",
    "1. adaboost\n",
    "\n",
    "2. gradient boost\n",
    "\n",
    "3. Xg boost'''"
   ]
  },
  {
   "cell_type": "code",
   "execution_count": null,
   "id": "3f48ba32-f382-49d8-8b98-f07e2f01e1cf",
   "metadata": {},
   "outputs": [],
   "source": [
    "'''Q5. What are the benefits of using ensemble techniques?'''\n",
    "\n",
    "'''\n",
    "benefits of using ensemble techniques-\n",
    "      \n",
    "reduces oerfitting \n",
    "\n",
    "enhances performance\n",
    "'''\n"
   ]
  },
  {
   "cell_type": "code",
   "execution_count": null,
   "id": "2827c8d8-3793-4f7a-b61b-97592c04792b",
   "metadata": {},
   "outputs": [],
   "source": [
    "'''Q6. Are ensemble techniques always better than individual models?'''\n",
    "'''\n",
    "generally it is better than individual models as it includes all model's expertise in a single model '''"
   ]
  },
  {
   "cell_type": "code",
   "execution_count": null,
   "id": "d5445d5a-5cd1-47e3-bf4b-55bd73e32421",
   "metadata": {},
   "outputs": [],
   "source": [
    "'''Q8. How does bootstrap work and What are the steps involved in bootstrap?'''\n",
    "\n",
    "'''bootstrap aggregration \n",
    "\n",
    "in this firstly we create n numbers of base learners which comprises of different different models \n",
    "\n",
    "then each on of them given a subset of train dataset and trained on it \n",
    "\n",
    "and then voting classifier happens which decide the final predicted output \n",
    "\n",
    "if the output is a classification type data then the value with maximum number of occurence will be selected as the output \n",
    "\n",
    "and if the output is a regressor type data then the avg value of the outputs of different models will be \n",
    "selected as the predicted ouput'''"
   ]
  }
 ],
 "metadata": {
  "kernelspec": {
   "display_name": "Python 3 (ipykernel)",
   "language": "python",
   "name": "python3"
  },
  "language_info": {
   "codemirror_mode": {
    "name": "ipython",
    "version": 3
   },
   "file_extension": ".py",
   "mimetype": "text/x-python",
   "name": "python",
   "nbconvert_exporter": "python",
   "pygments_lexer": "ipython3",
   "version": "3.10.8"
  }
 },
 "nbformat": 4,
 "nbformat_minor": 5
}
