{
 "cells": [
  {
   "cell_type": "code",
   "execution_count": null,
   "id": "03a93487-8af6-4d48-b5aa-ce84a2f57f61",
   "metadata": {},
   "outputs": [],
   "source": [
    "'''Q1. Explain the difference between linear regression and logistic regression models. Provide an example of\n",
    "a scenario where logistic regression would be more appropriate.'''\n",
    "'''\n",
    "logistic regression is used for binary classification \n",
    "\n",
    "whereas linear regression s used for numeric output prediction \n",
    "\n",
    "example of a logisitic regression scenario -\n",
    "\n",
    "we are given some input features like blood pressure, insulin , heart_rate \n",
    "and we have to check if the erson is diabetic or not'''"
   ]
  },
  {
   "cell_type": "code",
   "execution_count": null,
   "id": "75cc1ee3-1f39-4b33-a9ab-8467ec57a771",
   "metadata": {},
   "outputs": [],
   "source": [
    "'''Q2. What is the cost function used in logistic regression, and how is it optimized?'''\n",
    "'''\n",
    "the cost function used in logisitic regression is Log Loss function \n",
    "\n",
    "and it is optimized by the convergence technique or algorithm which is similar to what we performed in \n",
    "linear regression'''"
   ]
  },
  {
   "cell_type": "code",
   "execution_count": null,
   "id": "8eae1ca4-6d49-4f4e-9c35-af251287e1c7",
   "metadata": {},
   "outputs": [],
   "source": [
    "'''Q3. Explain the concept of regularization in logistic regression and how it helps prevent overfitting.'''\n",
    "'''\n",
    "it is same as the linear regression regularizations \n",
    "\n",
    "only the cost function is changed rest l1 , l2 regulariations have the same penalising terms \n",
    "which helps in feature selection and reduce overfitting respectively.'''"
   ]
  },
  {
   "cell_type": "code",
   "execution_count": null,
   "id": "c43498f0-015d-4dd0-a527-a3838efbc7e7",
   "metadata": {},
   "outputs": [],
   "source": [
    "'''Q5. What are some common techniques for feature selection in logistic regression? How do these\n",
    "techniques help improve the model's performance?'''\n",
    "'''\n",
    "we can use Lasso or l1 regularization tor selecting the important features\n",
    "\n",
    "we can also exclude those input features which are highly correlated to each other\n",
    "to improve model performance \n",
    "'''"
   ]
  }
 ],
 "metadata": {
  "kernelspec": {
   "display_name": "Python 3 (ipykernel)",
   "language": "python",
   "name": "python3"
  },
  "language_info": {
   "codemirror_mode": {
    "name": "ipython",
    "version": 3
   },
   "file_extension": ".py",
   "mimetype": "text/x-python",
   "name": "python",
   "nbconvert_exporter": "python",
   "pygments_lexer": "ipython3",
   "version": "3.10.8"
  }
 },
 "nbformat": 4,
 "nbformat_minor": 5
}
