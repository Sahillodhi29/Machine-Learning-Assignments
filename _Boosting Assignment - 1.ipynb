{
 "cells": [
  {
   "cell_type": "code",
   "execution_count": null,
   "id": "3bd1844e-ac95-4bce-92f0-c91bdc36f2f6",
   "metadata": {},
   "outputs": [],
   "source": [
    "'''Q1. What is boosting in machine learning?'''\n",
    "'''\n",
    "boosting is a type of ensemble technique in which it uses Sequential decision trees to train\n",
    "the dataset and make a final strong learner '''"
   ]
  },
  {
   "cell_type": "code",
   "execution_count": null,
   "id": "dccd5563-3fdb-48b0-8e30-60a31c058dbe",
   "metadata": {},
   "outputs": [],
   "source": [
    "'''Q2. What are the advantages and limitations of using boosting techniques?'''\n",
    "'''\n",
    "advantages-\n",
    "\n",
    "reduce overfitting \n",
    "more efficient \n",
    "more robust to outliers\n",
    "\n",
    "limitations-\n",
    "\n",
    "it has time complexity\n",
    "'''"
   ]
  },
  {
   "cell_type": "code",
   "execution_count": null,
   "id": "02116eca-1b29-438f-ae6d-c09a60318a40",
   "metadata": {},
   "outputs": [],
   "source": [
    "'''Q3. Explain how boosting works.'''\n",
    "\n",
    "''' boosting is based on training n number of decision trees on a sequential so that it can overall provide a strong learners \n",
    "by adding performances of all Decision trees '''"
   ]
  },
  {
   "cell_type": "code",
   "execution_count": null,
   "id": "ddcdecc6-7313-45e0-ba40-09c1dd1180d9",
   "metadata": {},
   "outputs": [],
   "source": [
    "'''Q4. What are the different types of boosting algorithms?'''\n",
    "\n",
    "'''\n",
    "\n",
    "!. Adaboost\n",
    "\n",
    "2. Gradient boost\n",
    "\n",
    "3. Xg boost\n",
    "\n",
    "\n",
    "'''\n"
   ]
  },
  {
   "cell_type": "code",
   "execution_count": null,
   "id": "a7b5d309-f170-411d-aeaa-6440054c8dd3",
   "metadata": {},
   "outputs": [],
   "source": [
    "'''Q5. What are some common parameters in boosting algorithms?'''\n",
    "'''\n",
    "1. alpha - which is also known as learning rate\n",
    "\n",
    "2. similarity weight \n",
    "\n",
    "'''"
   ]
  },
  {
   "cell_type": "code",
   "execution_count": null,
   "id": "a23a396c-92be-400f-8618-46f43faa6a7a",
   "metadata": {},
   "outputs": [],
   "source": [
    "'''Q6. How do boosting algorithms combine weak learners to create a strong learner?'''\n",
    "'''\n",
    "since they are sequentially conected  so the weak learner the pass on the incorrectly \n",
    "predicted data points to next decision trees and this is how \n",
    "it creates a strong learner '''"
   ]
  },
  {
   "cell_type": "code",
   "execution_count": null,
   "id": "b1b97537-cb24-4178-b40c-aac2f398ed25",
   "metadata": {},
   "outputs": [],
   "source": []
  }
 ],
 "metadata": {
  "kernelspec": {
   "display_name": "Python 3 (ipykernel)",
   "language": "python",
   "name": "python3"
  },
  "language_info": {
   "codemirror_mode": {
    "name": "ipython",
    "version": 3
   },
   "file_extension": ".py",
   "mimetype": "text/x-python",
   "name": "python",
   "nbconvert_exporter": "python",
   "pygments_lexer": "ipython3",
   "version": "3.10.8"
  }
 },
 "nbformat": 4,
 "nbformat_minor": 5
}
