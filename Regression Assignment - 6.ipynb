{
 "cells": [
  {
   "cell_type": "code",
   "execution_count": null,
   "id": "5ff4ab38-7f63-4fd9-a441-f4bd1150c7ce",
   "metadata": {},
   "outputs": [],
   "source": [
    "'''Q1. What are the key steps involved in building an end-to-end web application, from development to\n",
    "deployment on the cloud?'''\n",
    "'''\n",
    "key steps involved in building an end-to-end web application\n",
    "\n",
    "1.read the dataset \n",
    "\n",
    "2.EDA and feature engineering\n",
    "\n",
    "3. Model Training\n",
    "\n",
    "4. pickling models \n",
    "\n",
    "5.making a web api\n",
    "\n",
    "6. transportation\n",
    "\n",
    "7. delpoyement '''"
   ]
  },
  {
   "cell_type": "code",
   "execution_count": null,
   "id": "32ff60ed-5d99-4e51-a4ad-f584ca32f1fb",
   "metadata": {},
   "outputs": [],
   "source": [
    "'''Q2. Explain the difference between traditional web hosting and cloud hosting.'''\n",
    "\n",
    "'''traditional web hosting involves owning or leasing physical servers with fixed resources, \n",
    "while cloud hosting relies on virtualized, scalable infrastructure provided by cloud service providers.\n",
    "Cloud hosting offers greater flexibility, scalability, and cost efficiency, making it a popular choice for\n",
    "modern applications and businesses.'''"
   ]
  },
  {
   "cell_type": "code",
   "execution_count": null,
   "id": "a7b6338a-a89e-46b3-9cd5-17b630b7c6b1",
   "metadata": {},
   "outputs": [],
   "source": [
    "'''Q3. How do you choose the right cloud provider for your application deployment, and what factors\n",
    "should you consider?'''\n",
    "'''\n",
    "Choose a cloud provider by considering factors like service offerings, scalability, global reach,\n",
    "performance, reliability, security, pricing, support, integration, flexibility, innovation, data transfer costs,\n",
    "exit strategy, and community feedback. Align your choice with application requirements for optimal performance,\n",
    "cost-effectiveness, and future scalability.\n",
    "'''\n",
    "\n",
    "\n",
    "\n",
    "\n"
   ]
  }
 ],
 "metadata": {
  "kernelspec": {
   "display_name": "Python 3 (ipykernel)",
   "language": "python",
   "name": "python3"
  },
  "language_info": {
   "codemirror_mode": {
    "name": "ipython",
    "version": 3
   },
   "file_extension": ".py",
   "mimetype": "text/x-python",
   "name": "python",
   "nbconvert_exporter": "python",
   "pygments_lexer": "ipython3",
   "version": "3.10.8"
  }
 },
 "nbformat": 4,
 "nbformat_minor": 5
}
