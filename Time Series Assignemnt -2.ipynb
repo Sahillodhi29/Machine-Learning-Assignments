{
 "cells": [
  {
   "cell_type": "code",
   "execution_count": null,
   "id": "bc605c89-f26d-4a00-94d7-810f9fe2ceb9",
   "metadata": {},
   "outputs": [],
   "source": [
    "'''Q1. What is meant by time-dependent seasonal components?'''\n",
    "\n",
    "'''Time-dependent seasonal components refer to variations in a time series that exhibit a regular, \n",
    "recurring pattern over fixed intervals. These components vary in intensity or shape over time, indicating \n",
    "seasonality that changes in a systematic manner within the observed time period, often due to external factors\n",
    "like weather or holidays.'''"
   ]
  },
  {
   "cell_type": "code",
   "execution_count": null,
   "id": "294e483e-883a-4e00-ad87-106a63f07ac9",
   "metadata": {},
   "outputs": [],
   "source": [
    "'''Q2. How can time-dependent seasonal components be identified in time series data?'''\n",
    "\n",
    "'''To identify time-dependent seasonal components in time series data, analyze seasonality over \n",
    "regular intervals using methods like moving averages or decomposition. Plotting and analyzing data\n",
    "at a granular level reveal repeating patterns. Statistical tools, such as autocorrelation functions,\n",
    "can further help identify and understand the seasonality inherent in the data'''"
   ]
  },
  {
   "cell_type": "code",
   "execution_count": null,
   "id": "c992376d-bac6-4236-8254-4003e6c4370e",
   "metadata": {},
   "outputs": [],
   "source": [
    "'''Q3. What are the factors that can influence time-dependent seasonal components?'''\n",
    "\n",
    "'''Factors influencing time-dependent seasonal components include weather, holidays, cultural events, \n",
    "and economic cycles. External events impacting specific time periods contribute to seasonality. \n",
    "Understanding these factors is crucial for accurate time series analysis, forecasting, and making \n",
    "informed decisions in fields like retail, finance, and agriculture.\n",
    "'''"
   ]
  },
  {
   "cell_type": "code",
   "execution_count": null,
   "id": "6f5dbc69-10a9-4ca4-ab37-45d067885514",
   "metadata": {},
   "outputs": [],
   "source": [
    "'''Q4. How are autoregression models used in time series analysis and forecasting?'''\n",
    "\n",
    "'''Autoregression models, like ARIMA, use past observations to predict future values in time series data. \n",
    "These models capture dependencies between an observation and its previous values. By analyzing autocorrelation,\n",
    "autoregressive terms quantify this relationship, aiding in forecasting trends, patterns, and potential future\n",
    "behavior in the data.\n",
    "'''"
   ]
  },
  {
   "cell_type": "code",
   "execution_count": null,
   "id": "be888084-c495-4e31-840c-95f7e8b72499",
   "metadata": {},
   "outputs": [],
   "source": [
    "'''Q5. How do you use autoregression models to make predictions for future time points?'''\n",
    "\n",
    "'''In autoregression models, such as ARIMA, predictions for future time points are made by leveraging \n",
    "the relationship between an observation and its past values. The model uses historical data to estimate\n",
    "parameters, and this information is then used to forecast future points based on the established patterns \n",
    "and trends in the time series.\n",
    "'''"
   ]
  }
 ],
 "metadata": {
  "kernelspec": {
   "display_name": "Python 3 (ipykernel)",
   "language": "python",
   "name": "python3"
  },
  "language_info": {
   "codemirror_mode": {
    "name": "ipython",
    "version": 3
   },
   "file_extension": ".py",
   "mimetype": "text/x-python",
   "name": "python",
   "nbconvert_exporter": "python",
   "pygments_lexer": "ipython3",
   "version": "3.10.8"
  }
 },
 "nbformat": 4,
 "nbformat_minor": 5
}
