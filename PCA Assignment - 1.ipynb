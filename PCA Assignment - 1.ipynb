{
 "cells": [
  {
   "cell_type": "code",
   "execution_count": null,
   "id": "28b1b70b-0eac-4778-b213-a2c9afcfe68b",
   "metadata": {},
   "outputs": [],
   "source": [
    "'''Q1. What is the curse of dimensionality reduction and why is it important in machine learning?'''\n",
    "'''\n",
    "dimensionaltiy reduction is important because if there are so many features dor dimensions which are useless or have low \n",
    "importance , they can degrade the performance of the model '''"
   ]
  },
  {
   "cell_type": "code",
   "execution_count": null,
   "id": "8d5fc602-1a5c-414a-8ce8-b5ad657dd6bf",
   "metadata": {},
   "outputs": [],
   "source": [
    "'''Q2. How does the curse of dimensionality impact the performance of machine learning algorithms?'''\n",
    "\n",
    "'''if there are so many features dor dimensions which are useless or have low \n",
    "importance , they can degrade the performance of the model'''\n"
   ]
  },
  {
   "cell_type": "code",
   "execution_count": null,
   "id": "3b5ddb47-dbda-417c-986e-f4d2949100fd",
   "metadata": {},
   "outputs": [],
   "source": [
    "'''Q3. What are some of the consequences of the curse of dimensionality in machine learning, and how do\n",
    "they impact model performance?'''\n",
    "\n",
    "'''if there are so many features dor dimensions which are useless or have low \n",
    "importance , they can degrade the performance of the machine learning model'''"
   ]
  },
  {
   "cell_type": "code",
   "execution_count": null,
   "id": "ea7b1451-d591-4cd9-a583-bde5afb42e06",
   "metadata": {},
   "outputs": [],
   "source": [
    "'''Q4. Can you explain the concept of feature selection and how it can help with dimensionality reduction?'''\n",
    "'''\n",
    "in feature selection , we only select the important features and the rest are just ignored in the training of the model '''"
   ]
  },
  {
   "cell_type": "code",
   "execution_count": null,
   "id": "e0a1956f-f398-45b6-b851-8699c75a7f7e",
   "metadata": {},
   "outputs": [],
   "source": [
    "'''Q5. What are some limitations and drawbacks of using dimensionality reduction techniques in machine\n",
    "learning?'''\n",
    "\n",
    "'''sometimes all the features are important and if we remove the few important feature ,our model would be undertrained '''"
   ]
  },
  {
   "cell_type": "code",
   "execution_count": null,
   "id": "452fcb4c-b6a5-4a9d-a813-e52bf051b105",
   "metadata": {},
   "outputs": [],
   "source": [
    "'''Q7. How can one determine the optimal number of dimensions to reduce data to when using\n",
    "dimensionality reduction techniques? '''\n",
    "'''\n",
    "by checking if there explained variance is high or not '''"
   ]
  }
 ],
 "metadata": {
  "kernelspec": {
   "display_name": "Python 3 (ipykernel)",
   "language": "python",
   "name": "python3"
  },
  "language_info": {
   "codemirror_mode": {
    "name": "ipython",
    "version": 3
   },
   "file_extension": ".py",
   "mimetype": "text/x-python",
   "name": "python",
   "nbconvert_exporter": "python",
   "pygments_lexer": "ipython3",
   "version": "3.10.8"
  }
 },
 "nbformat": 4,
 "nbformat_minor": 5
}
