{
 "cells": [
  {
   "cell_type": "code",
   "execution_count": null,
   "id": "deeec4df-d0ee-46e3-acdb-0de198ad9a0b",
   "metadata": {},
   "outputs": [],
   "source": [
    "'''Q1. What is the KNN algorithm?'''\n",
    "'''\n",
    "  KNN algorthm is another type of algorithm which is used for both classification and regressor \n",
    "    type problems . it stands for K Nearest Neighbours in which we select the k nearest neighbours \n",
    "     to find the predicted output '''"
   ]
  },
  {
   "cell_type": "code",
   "execution_count": null,
   "id": "95d4ae12-a30b-480b-8da1-b67c2e740c3d",
   "metadata": {},
   "outputs": [],
   "source": [
    "'''Q2. How do you choose the value of K in KNN?'''\n",
    "'''\n",
    "the value of K is a Hyperparamter and hence it can vary for different datasets , so we \n",
    "do hyperparamter tuning of it using GridsearchCV '''"
   ]
  },
  {
   "cell_type": "code",
   "execution_count": null,
   "id": "50f01f97-34ff-4829-958c-d046d269a279",
   "metadata": {},
   "outputs": [],
   "source": [
    "'''Q3. What is the difference between KNN classifier and KNN regressor?'''\n",
    "'''\n",
    "in KNN classifier the predicted ouput is most frequent value in the k nearest neighbour \n",
    "wheras in KNN regressor the precited output is average of all the values of k nearest neighbours \n",
    "'''"
   ]
  },
  {
   "cell_type": "code",
   "execution_count": null,
   "id": "0754abc2-061b-42dc-a83f-be39e48dbdde",
   "metadata": {},
   "outputs": [],
   "source": [
    "'''Q7. Compare and contrast the performance of the KNN classifier and regressor. Which one is better for\n",
    "which type of problem?'''\n",
    "\n",
    "'''\n",
    "\n",
    "we use KNN classifier when the predicted output is a binary or multiclass feature \n",
    "whereas we use KNN regressor when the predicted output is a continuous feature '''"
   ]
  },
  {
   "cell_type": "code",
   "execution_count": null,
   "id": "b92fedcc-9334-46a4-bcec-69830b468c8f",
   "metadata": {},
   "outputs": [],
   "source": [
    "'''Q8. What are the strengths and weaknesses of the KNN algorithm for classification and regression tasks,\n",
    "and how can these be addressed?'''\n",
    "'''\n",
    "weakness -\n",
    "\n",
    "time complexity \n",
    "\n",
    "it can be handled by using variants of KNN such as KD tree and Ball Tree '''"
   ]
  },
  {
   "cell_type": "code",
   "execution_count": 2,
   "id": "f95ea027-0b04-4557-b8a6-caf5de4174f7",
   "metadata": {},
   "outputs": [
    {
     "data": {
      "text/plain": [
       "'\\nEuclidean distance - it the algebric distance between two points \\n\\nManhattan distance- Manhattan distance is a metric in which the distance between\\ntwo points is the sum of the absolute differences of their Cartesian coordinates '"
      ]
     },
     "execution_count": 2,
     "metadata": {},
     "output_type": "execute_result"
    }
   ],
   "source": [
    "'''Q9. What is the difference between Euclidean distance and Manhattan distance in KNN?'''\n",
    "'''\n",
    "Euclidean distance - it the algebric distance between two points \n",
    "\n",
    "Manhattan distance- Manhattan distance is a metric in which the distance between\n",
    "two points is the sum of the absolute differences of their Cartesian coordinates '''"
   ]
  },
  {
   "cell_type": "code",
   "execution_count": null,
   "id": "c58fff35-c946-4a4a-8969-fa398f5d8a74",
   "metadata": {},
   "outputs": [],
   "source": []
  }
 ],
 "metadata": {
  "kernelspec": {
   "display_name": "Python 3 (ipykernel)",
   "language": "python",
   "name": "python3"
  },
  "language_info": {
   "codemirror_mode": {
    "name": "ipython",
    "version": 3
   },
   "file_extension": ".py",
   "mimetype": "text/x-python",
   "name": "python",
   "nbconvert_exporter": "python",
   "pygments_lexer": "ipython3",
   "version": "3.10.8"
  }
 },
 "nbformat": 4,
 "nbformat_minor": 5
}
