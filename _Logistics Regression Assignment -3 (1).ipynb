{
 "cells": [
  {
   "cell_type": "code",
   "execution_count": null,
   "id": "d4b3f529-9f89-4744-8b86-3026ef873b3f",
   "metadata": {},
   "outputs": [],
   "source": [
    "'''Q1. Explain the concept of precision and recall in the context of classification models.'''\n",
    "'''\n",
    "precision-\n",
    "\n",
    "it  is a measure of the accuracy of the positive predictions made by the model. \n",
    "It is defined as the ratio of true positive predictions to the total number of positive predictions made by the model\n",
    "\n",
    "Recall -\n",
    "\n",
    "measures the ability of the model to correctly identify all the positive instances in the dataset. \n",
    "It is defined as the ratio of true positive predictions to the total number of actual positive instances '''"
   ]
  },
  {
   "cell_type": "code",
   "execution_count": null,
   "id": "468fb567-b60a-44fc-b160-0c7ac67640b3",
   "metadata": {},
   "outputs": [],
   "source": [
    "'''Q2. What is the F1 score and how is it calculated? How is it different from precision and recall?'''\n",
    "'''\n",
    "The F1 score is calculated as the harmonic mean of precision and recall.\n",
    "\n",
    "It provides a balanced assessment of the model's performance, considering both false positives and false negatives.'''\n"
   ]
  },
  {
   "cell_type": "code",
   "execution_count": null,
   "id": "7d1aaf51-eb48-42a6-82ca-50e5bd37bd96",
   "metadata": {},
   "outputs": [],
   "source": [
    "'''Q4. How do you choose the best metric to evaluate the performance of a classification model?'''\n",
    "\n",
    "'''the choice of the best metric for evaluating a classification model should be driven by a deep understanding \n",
    "of the problem context, business goals, and the consequences of different types of errors.'''"
   ]
  },
  {
   "cell_type": "code",
   "execution_count": null,
   "id": "5eb5c751-6608-467d-a3f7-59001fda169c",
   "metadata": {},
   "outputs": [],
   "source": [
    "'''Q6. Describe the steps involved in an end-to-end project for multiclass classification.'''\n",
    "'''\n",
    "steps involved in an end-to-end project for multiclass classification\n",
    "\n",
    "1.read the dataset \n",
    "\n",
    "2.EDA and feature engineering\n",
    "\n",
    "4. Hyperparameter tuning\n",
    "\n",
    "5. Model selection and Training\n",
    "\n",
    "6. pickling models \n",
    "\n",
    "7.making a web api\n",
    "\n",
    "8. transportation\n",
    "\n",
    "9. delpoyement '''"
   ]
  },
  {
   "cell_type": "code",
   "execution_count": null,
   "id": "3def3b08-5407-4e74-822c-6ffb11b90cc7",
   "metadata": {},
   "outputs": [],
   "source": [
    "'''Q7. What is model deployment and why is it important?''''\n",
    "'''\n",
    "Model deployment refers to the process of making a trained machine learning model available for use in a real-world \n",
    "or production environment. In simpler terms, it's the transition from the development and testing phase to integrating \n",
    "the model into a system where it can be used to make predictions on new, unseen data\n",
    "\n",
    "It is a critical step that transforms models into practical tools, enabling organizations to make data-driven \n",
    "decisions and derive value from their machine learning initiatives '''"
   ]
  }
 ],
 "metadata": {
  "kernelspec": {
   "display_name": "Python 3 (ipykernel)",
   "language": "python",
   "name": "python3"
  },
  "language_info": {
   "codemirror_mode": {
    "name": "ipython",
    "version": 3
   },
   "file_extension": ".py",
   "mimetype": "text/x-python",
   "name": "python",
   "nbconvert_exporter": "python",
   "pygments_lexer": "ipython3",
   "version": "3.10.8"
  }
 },
 "nbformat": 4,
 "nbformat_minor": 5
}
