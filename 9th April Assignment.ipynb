{
 "cells": [
  {
   "cell_type": "code",
   "execution_count": null,
   "id": "c4e92d10-d984-4b77-9d46-536decac737b",
   "metadata": {},
   "outputs": [],
   "source": [
    "'''Q1. What is Bayes' theorem?'''\n",
    "'''\n",
    "Bayes theorem is a concept of probability which is used to find the conditional probabilty \n",
    "\n",
    "it is used in Machine learning to predict classfication type problems '''"
   ]
  },
  {
   "cell_type": "code",
   "execution_count": null,
   "id": "f05d90f7-453f-4016-aab7-f848e85da8aa",
   "metadata": {},
   "outputs": [],
   "source": [
    "'''Q2. What is the formula for Bayes' theorem?'''\n",
    "'''\n",
    "P(A∣B)=[ P(B∣A)*P(A)]/P(B)\n",
    "\n",
    "'''"
   ]
  },
  {
   "cell_type": "code",
   "execution_count": null,
   "id": "394f8ab5-85ce-4b7a-9bcc-cc2a21465c12",
   "metadata": {},
   "outputs": [],
   "source": [
    "'''Q3. How is Bayes' theorem used in practice?'''\n",
    "'''\n",
    "it is used in classfication type data , in which we wll compare the probabilty of 0 and 1 \n",
    "and whoever has the greater probabilty will be the predcited value by the model '''"
   ]
  },
  {
   "cell_type": "code",
   "execution_count": null,
   "id": "257cb412-6cc0-4301-854b-58c7f410e686",
   "metadata": {},
   "outputs": [],
   "source": [
    "'''Q4. What is the relationship between Bayes' theorem and conditional probability?'''\n",
    "\n",
    "\n",
    "'''Bayes' theorem is closely related to conditional probability, and it provides a way to update our beliefs about \n",
    "the probability of an event based on new evidence. '''"
   ]
  },
  {
   "cell_type": "code",
   "execution_count": null,
   "id": "2fd42ef7-1e02-4e13-810e-e1cd86f5ca6d",
   "metadata": {},
   "outputs": [],
   "source": [
    "'''Q5. How do you choose which type of Naive Bayes classifier to use for any given problem?'''\n",
    "'''\n",
    "if the given data follow a gaussian distribution then we will use gaussian naive bayes\n",
    "\n",
    "if the given data follow a bernoulli's distribution then we will use bernoulli's naive bayes\n",
    "\n",
    "and if the given data has text data then we will Multinomial naives bayes '''"
   ]
  }
 ],
 "metadata": {
  "kernelspec": {
   "display_name": "Python 3 (ipykernel)",
   "language": "python",
   "name": "python3"
  },
  "language_info": {
   "codemirror_mode": {
    "name": "ipython",
    "version": 3
   },
   "file_extension": ".py",
   "mimetype": "text/x-python",
   "name": "python",
   "nbconvert_exporter": "python",
   "pygments_lexer": "ipython3",
   "version": "3.10.8"
  }
 },
 "nbformat": 4,
 "nbformat_minor": 5
}
