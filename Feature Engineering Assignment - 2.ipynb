{
 "cells": [
  {
   "cell_type": "code",
   "execution_count": 9,
   "id": "11c9f546-4969-481c-907e-b37e09ab1982",
   "metadata": {},
   "outputs": [],
   "source": [
    "'''Q1. What is Min-Max scaling, and how is it used in data preprocessing? Provide an example to illustrate its\n",
    "application.'''\n",
    "\n",
    "'''min max scaling is basically used to scale and normalize (usually betwween 0 to 1 )the datas of the features so the machine learning\n",
    "model can easily interpret it '''\n",
    "\n",
    "import pandas as pd\n",
    "\n",
    "from  sklearn.preprocessing import MinMaxScaler\n",
    "\n",
    "data = {\n",
    "      'feature 1' : [2023, 2222, 3456 , 3123 , 4567],\n",
    "       'feature 2' : [234, 222, 346 , 313 , 567]\n",
    "\n",
    "}\n",
    "\n",
    "df= pd.DataFrame(data)"
   ]
  },
  {
   "cell_type": "code",
   "execution_count": 10,
   "id": "e1b47ebd-a4f9-45ab-9cd0-843f0dbe2400",
   "metadata": {},
   "outputs": [
    {
     "data": {
      "text/html": [
       "<div>\n",
       "<style scoped>\n",
       "    .dataframe tbody tr th:only-of-type {\n",
       "        vertical-align: middle;\n",
       "    }\n",
       "\n",
       "    .dataframe tbody tr th {\n",
       "        vertical-align: top;\n",
       "    }\n",
       "\n",
       "    .dataframe thead th {\n",
       "        text-align: right;\n",
       "    }\n",
       "</style>\n",
       "<table border=\"1\" class=\"dataframe\">\n",
       "  <thead>\n",
       "    <tr style=\"text-align: right;\">\n",
       "      <th></th>\n",
       "      <th>feature 1</th>\n",
       "      <th>feature 2</th>\n",
       "    </tr>\n",
       "  </thead>\n",
       "  <tbody>\n",
       "    <tr>\n",
       "      <th>0</th>\n",
       "      <td>2023</td>\n",
       "      <td>234</td>\n",
       "    </tr>\n",
       "    <tr>\n",
       "      <th>1</th>\n",
       "      <td>2222</td>\n",
       "      <td>222</td>\n",
       "    </tr>\n",
       "    <tr>\n",
       "      <th>2</th>\n",
       "      <td>3456</td>\n",
       "      <td>346</td>\n",
       "    </tr>\n",
       "    <tr>\n",
       "      <th>3</th>\n",
       "      <td>3123</td>\n",
       "      <td>313</td>\n",
       "    </tr>\n",
       "    <tr>\n",
       "      <th>4</th>\n",
       "      <td>4567</td>\n",
       "      <td>567</td>\n",
       "    </tr>\n",
       "  </tbody>\n",
       "</table>\n",
       "</div>"
      ],
      "text/plain": [
       "   feature 1  feature 2\n",
       "0       2023        234\n",
       "1       2222        222\n",
       "2       3456        346\n",
       "3       3123        313\n",
       "4       4567        567"
      ]
     },
     "execution_count": 10,
     "metadata": {},
     "output_type": "execute_result"
    }
   ],
   "source": [
    "df # original dataset"
   ]
  },
  {
   "cell_type": "code",
   "execution_count": 13,
   "id": "bdb4437b-4c25-4208-9490-f2fa66e271d7",
   "metadata": {},
   "outputs": [],
   "source": [
    "scaler = MinMaxScaler()\n",
    "\n",
    "df_scaled = pd.DataFrame(scaler.fit_transform(df), columns=df.columns)\n"
   ]
  },
  {
   "cell_type": "code",
   "execution_count": 14,
   "id": "0c535771-260c-4204-b6c7-bcb5294a7329",
   "metadata": {},
   "outputs": [
    {
     "data": {
      "text/html": [
       "<div>\n",
       "<style scoped>\n",
       "    .dataframe tbody tr th:only-of-type {\n",
       "        vertical-align: middle;\n",
       "    }\n",
       "\n",
       "    .dataframe tbody tr th {\n",
       "        vertical-align: top;\n",
       "    }\n",
       "\n",
       "    .dataframe thead th {\n",
       "        text-align: right;\n",
       "    }\n",
       "</style>\n",
       "<table border=\"1\" class=\"dataframe\">\n",
       "  <thead>\n",
       "    <tr style=\"text-align: right;\">\n",
       "      <th></th>\n",
       "      <th>feature 1</th>\n",
       "      <th>feature 2</th>\n",
       "    </tr>\n",
       "  </thead>\n",
       "  <tbody>\n",
       "    <tr>\n",
       "      <th>0</th>\n",
       "      <td>0.000000</td>\n",
       "      <td>0.034783</td>\n",
       "    </tr>\n",
       "    <tr>\n",
       "      <th>1</th>\n",
       "      <td>0.078223</td>\n",
       "      <td>0.000000</td>\n",
       "    </tr>\n",
       "    <tr>\n",
       "      <th>2</th>\n",
       "      <td>0.563286</td>\n",
       "      <td>0.359420</td>\n",
       "    </tr>\n",
       "    <tr>\n",
       "      <th>3</th>\n",
       "      <td>0.432390</td>\n",
       "      <td>0.263768</td>\n",
       "    </tr>\n",
       "    <tr>\n",
       "      <th>4</th>\n",
       "      <td>1.000000</td>\n",
       "      <td>1.000000</td>\n",
       "    </tr>\n",
       "  </tbody>\n",
       "</table>\n",
       "</div>"
      ],
      "text/plain": [
       "   feature 1  feature 2\n",
       "0   0.000000   0.034783\n",
       "1   0.078223   0.000000\n",
       "2   0.563286   0.359420\n",
       "3   0.432390   0.263768\n",
       "4   1.000000   1.000000"
      ]
     },
     "execution_count": 14,
     "metadata": {},
     "output_type": "execute_result"
    }
   ],
   "source": [
    "df_scaled # scaled dataset"
   ]
  },
  {
   "cell_type": "code",
   "execution_count": 19,
   "id": "1be6c910-e390-470c-8418-50e23cbd52a4",
   "metadata": {},
   "outputs": [
    {
     "data": {
      "text/html": [
       "<div>\n",
       "<style scoped>\n",
       "    .dataframe tbody tr th:only-of-type {\n",
       "        vertical-align: middle;\n",
       "    }\n",
       "\n",
       "    .dataframe tbody tr th {\n",
       "        vertical-align: top;\n",
       "    }\n",
       "\n",
       "    .dataframe thead th {\n",
       "        text-align: right;\n",
       "    }\n",
       "</style>\n",
       "<table border=\"1\" class=\"dataframe\">\n",
       "  <thead>\n",
       "    <tr style=\"text-align: right;\">\n",
       "      <th></th>\n",
       "      <th>feature 1</th>\n",
       "      <th>feature 2</th>\n",
       "    </tr>\n",
       "  </thead>\n",
       "  <tbody>\n",
       "    <tr>\n",
       "      <th>0</th>\n",
       "      <td>2023</td>\n",
       "      <td>234</td>\n",
       "    </tr>\n",
       "    <tr>\n",
       "      <th>1</th>\n",
       "      <td>2222</td>\n",
       "      <td>222</td>\n",
       "    </tr>\n",
       "  </tbody>\n",
       "</table>\n",
       "</div>"
      ],
      "text/plain": [
       "   feature 1  feature 2\n",
       "0       2023        234\n",
       "1       2222        222"
      ]
     },
     "execution_count": 19,
     "metadata": {},
     "output_type": "execute_result"
    }
   ],
   "source": [
    "'''Q2. What is the Unit Vector technique in feature scaling, and how does it differ from Min-Max scaling?\n",
    "Provide an example to illustrate its application.'''\n",
    "\n",
    "import pandas as pd\n",
    "\n",
    "from  sklearn.preprocessing import Normalizer\n",
    "\n",
    "data = {\n",
    "      'feature 1' : [2023, 2222],\n",
    "       'feature 2' : [234, 222]\n",
    "\n",
    "}\n",
    "\n",
    "df1= pd.DataFrame(data)\n",
    "\n",
    "df1"
   ]
  },
  {
   "cell_type": "code",
   "execution_count": 21,
   "id": "565c1f81-3e29-4ef4-b7f5-c183f34143f1",
   "metadata": {},
   "outputs": [
    {
     "data": {
      "text/html": [
       "<div>\n",
       "<style scoped>\n",
       "    .dataframe tbody tr th:only-of-type {\n",
       "        vertical-align: middle;\n",
       "    }\n",
       "\n",
       "    .dataframe tbody tr th {\n",
       "        vertical-align: top;\n",
       "    }\n",
       "\n",
       "    .dataframe thead th {\n",
       "        text-align: right;\n",
       "    }\n",
       "</style>\n",
       "<table border=\"1\" class=\"dataframe\">\n",
       "  <thead>\n",
       "    <tr style=\"text-align: right;\">\n",
       "      <th></th>\n",
       "      <th>0</th>\n",
       "      <th>1</th>\n",
       "    </tr>\n",
       "  </thead>\n",
       "  <tbody>\n",
       "    <tr>\n",
       "      <th>feature 1</th>\n",
       "      <td>0.993377</td>\n",
       "      <td>0.114904</td>\n",
       "    </tr>\n",
       "    <tr>\n",
       "      <th>feature 2</th>\n",
       "      <td>0.995046</td>\n",
       "      <td>0.099415</td>\n",
       "    </tr>\n",
       "  </tbody>\n",
       "</table>\n",
       "</div>"
      ],
      "text/plain": [
       "                  0         1\n",
       "feature 1  0.993377  0.114904\n",
       "feature 2  0.995046  0.099415"
      ]
     },
     "execution_count": 21,
     "metadata": {},
     "output_type": "execute_result"
    }
   ],
   "source": [
    "unitvect= Normalizer()\n",
    "\n",
    "df_normalized1= pd.DataFrame(unitvect.fit_transform(df1) , df1.columns)\n",
    "\n",
    "df_normalized1"
   ]
  },
  {
   "cell_type": "code",
   "execution_count": null,
   "id": "196d261d-d002-4251-8e83-3cabea5a5428",
   "metadata": {},
   "outputs": [],
   "source": [
    "'''Q3. What is PCA (Principle Component Analysis), and how is it used in dimensionality reduction? Provide an\n",
    "example to illustrate its application.'''\n",
    "\n",
    "'''If we are given two features and we have to train our model for only 1 dimension \n",
    "so using only one feature out of two will result in so much of data loss .\n",
    "\n",
    "hence we use PCA . it this we use the best fit line passes from the points of the two feature \n",
    "and project them on the best fit line and then use this interepretation for training our model.'''\n",
    "\n"
   ]
  },
  {
   "cell_type": "code",
   "execution_count": 22,
   "id": "67eceb2a-13a1-42c4-8a94-18e175fc81dd",
   "metadata": {},
   "outputs": [
    {
     "data": {
      "image/png": "[encoded data removed]",
      "text/plain": [
       "<Figure size 640x480 with 1 Axes>"
      ]
     },
     "metadata": {},
     "output_type": "display_data"
    },
    {
     "data": {
      "image/png": "[encoded data removed]",
      "text/plain": [
       "<Figure size 640x480 with 1 Axes>"
      ]
     },
     "metadata": {},
     "output_type": "display_data"
    }
   ],
   "source": [
    "'''Q4. What is the relationship between PCA and Feature Extraction, and how can PCA be used for Feature\n",
    "Extraction? Provide an example to illustrate this concept.'''\n",
    "'''\n",
    "Principal Component Analysis (PCA) is a dimensionality reduction technique \n",
    "\n",
    "The primary goal of PCA is to\n",
    "transform the original features of a dataset into a new set of uncorrelated features, known as principal\n",
    "components, ordered by their importance in explaining the variance in the data.'''\n",
    "\n",
    "import numpy as np\n",
    "from sklearn.decomposition import PCA\n",
    "import matplotlib.pyplot as plt\n",
    "\n",
    "# Create a synthetic dataset\n",
    "np.random.seed(42)\n",
    "data = np.random.multivariate_normal(mean=[0, 0], cov=[[1, 0.8], [0.8, 1]], size=100)\n",
    "\n",
    "# Visualize the original dataset\n",
    "plt.scatter(data[:, 0], data[:, 1], alpha=0.8)\n",
    "plt.title('Original Dataset')\n",
    "plt.xlabel('Feature 1')\n",
    "plt.ylabel('Feature 2')\n",
    "plt.show()\n",
    "\n",
    "# Apply PCA for dimensionality reduction (feature extraction)\n",
    "pca = PCA(n_components=1)\n",
    "transformed_data = pca.fit_transform(data)\n",
    "\n",
    "# Visualize the dataset after PCA\n",
    "plt.scatter(transformed_data, np.zeros_like(transformed_data), alpha=0.8)\n",
    "plt.title('Dataset after PCA (Feature Extraction)')\n",
    "plt.xlabel('Principal Component')\n",
    "plt.yticks([])\n",
    "plt.show()\n"
   ]
  },
  {
   "cell_type": "code",
   "execution_count": 23,
   "id": "59c2acf1-2715-46c2-bd7a-a3c454fd3c08",
   "metadata": {},
   "outputs": [
    {
     "data": {
      "text/html": [
       "<div>\n",
       "<style scoped>\n",
       "    .dataframe tbody tr th:only-of-type {\n",
       "        vertical-align: middle;\n",
       "    }\n",
       "\n",
       "    .dataframe tbody tr th {\n",
       "        vertical-align: top;\n",
       "    }\n",
       "\n",
       "    .dataframe thead th {\n",
       "        text-align: right;\n",
       "    }\n",
       "</style>\n",
       "<table border=\"1\" class=\"dataframe\">\n",
       "  <thead>\n",
       "    <tr style=\"text-align: right;\">\n",
       "      <th></th>\n",
       "      <th>Price</th>\n",
       "      <th>Rating</th>\n",
       "      <th>Delivery Time (minutes)</th>\n",
       "    </tr>\n",
       "  </thead>\n",
       "  <tbody>\n",
       "    <tr>\n",
       "      <th>0</th>\n",
       "      <td>15.99</td>\n",
       "      <td>4.5</td>\n",
       "      <td>30</td>\n",
       "    </tr>\n",
       "    <tr>\n",
       "      <th>1</th>\n",
       "      <td>12.99</td>\n",
       "      <td>4.2</td>\n",
       "      <td>45</td>\n",
       "    </tr>\n",
       "    <tr>\n",
       "      <th>2</th>\n",
       "      <td>9.99</td>\n",
       "      <td>4.0</td>\n",
       "      <td>25</td>\n",
       "    </tr>\n",
       "  </tbody>\n",
       "</table>\n",
       "</div>"
      ],
      "text/plain": [
       "   Price  Rating  Delivery Time (minutes)\n",
       "0  15.99     4.5                       30\n",
       "1  12.99     4.2                       45\n",
       "2   9.99     4.0                       25"
      ]
     },
     "execution_count": 23,
     "metadata": {},
     "output_type": "execute_result"
    }
   ],
   "source": [
    "'''Q5. You are working on a project to build a recommendation system for a food delivery service. The dataset\n",
    "contains features such as price, rating, and delivery time. Explain how you would use Min-Max scaling to\n",
    "preprocess the data.'''\n",
    "\n",
    "import pandas as pd \n",
    "from sklearn.preprocessing import MinMaxScaler\n",
    "data = {\n",
    "    \n",
    "    'Price': [15.99, 12.99, 9.99],\n",
    "    'Rating': [4.5, 4.2, 4.0],\n",
    "    'Delivery Time (minutes)': [30, 45, 25]\n",
    "}\n",
    "\n",
    "df= pd.DataFrame(data)\n",
    "df"
   ]
  },
  {
   "cell_type": "code",
   "execution_count": 24,
   "id": "58e9da45-224e-4959-a715-c6d3522975fc",
   "metadata": {},
   "outputs": [
    {
     "name": "stdout",
     "output_type": "stream",
     "text": [
      "THE PREPROCESSED DATA FOR FOOD SERVICE \n",
      "   Price  Rating  Delivery Time (minutes)\n",
      "0    1.0     1.0                     0.25\n",
      "1    0.5     0.4                     1.00\n",
      "2    0.0     0.0                     0.00\n"
     ]
    }
   ],
   "source": [
    "# now we will use min max scaling to preprocess the data by making the data values btw 0 to 1\n",
    "\n",
    "scaler= MinMaxScaler()\n",
    "\n",
    "df_preprocessed = pd.DataFrame(scaler.fit_transform(df), columns=df.columns)\n",
    "\n",
    "print(\"THE PREPROCESSED DATA FOR FOOD SERVICE \")\n",
    "\n",
    "print(df_preprocessed)"
   ]
  }
 ],
 "metadata": {
  "kernelspec": {
   "display_name": "Python 3 (ipykernel)",
   "language": "python",
   "name": "python3"
  },
  "language_info": {
   "codemirror_mode": {
    "name": "ipython",
    "version": 3
   },
   "file_extension": ".py",
   "mimetype": "text/x-python",
   "name": "python",
   "nbconvert_exporter": "python",
   "pygments_lexer": "ipython3",
   "version": "3.10.8"
  }
 },
 "nbformat": 4,
 "nbformat_minor": 5
}
