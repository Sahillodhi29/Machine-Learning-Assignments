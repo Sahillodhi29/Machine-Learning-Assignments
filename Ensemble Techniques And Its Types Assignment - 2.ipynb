{
 "cells": [
  {
   "cell_type": "code",
   "execution_count": null,
   "id": "ee767cb0-0592-4305-ad8f-c963bae3e001",
   "metadata": {},
   "outputs": [],
   "source": [
    "'''Q1. How does bagging reduce overfitting in decision trees?'''\n",
    "'''\n",
    "in decision trees we know that it split till it get all the leaf nodes which leads to overfitting \n",
    "\n",
    "so with use of bagging in Decision trees as Randomforest classifier , the bias stays low but the high variance also get low \n",
    "which redcues overffiting and give better prediction '''"
   ]
  },
  {
   "cell_type": "code",
   "execution_count": null,
   "id": "860f9332-0d37-4794-91a4-e9d01190a4f1",
   "metadata": {},
   "outputs": [],
   "source": [
    "'''Q2. What are the advantages and disadvantages of using different types of base learners in bagging?'''\n",
    "'''\n",
    "using different types of base learners will allow us to see how different models perform with different datasets \n",
    "which will allow us to select the best model from all of them to train our dataset '''"
   ]
  },
  {
   "cell_type": "code",
   "execution_count": null,
   "id": "0828b3a6-64e8-4701-931b-9bdbcd843881",
   "metadata": {},
   "outputs": [],
   "source": [
    "'''Q4. Can bagging be used for both classification and regression tasks? How does it differ in each case?'''\n",
    "'''\n",
    "yes bagging can be used for both classification and regression tasks\n",
    "\n",
    "if the output is a classification type data then the value with maximum number of occurence will be selected as the output \n",
    "\n",
    "and if the output is a regressor type data then the avg value of the outputs of different models will be \n",
    "selected as the predicted ouput '''"
   ]
  },
  {
   "cell_type": "code",
   "execution_count": null,
   "id": "638840e5-4f88-464b-a73c-7f47915079b9",
   "metadata": {},
   "outputs": [],
   "source": [
    "'''Q5. What is the role of ensemble size in bagging? How many models should be included in the ensemble?'''\n",
    "'''\n",
    "ensemble size in bagging helps to select how many base learners we want \n",
    "\n",
    "at default ensemble size is 100 but you can change with our need and convinience '''"
   ]
  }
 ],
 "metadata": {
  "kernelspec": {
   "display_name": "Python 3 (ipykernel)",
   "language": "python",
   "name": "python3"
  },
  "language_info": {
   "codemirror_mode": {
    "name": "ipython",
    "version": 3
   },
   "file_extension": ".py",
   "mimetype": "text/x-python",
   "name": "python",
   "nbconvert_exporter": "python",
   "pygments_lexer": "ipython3",
   "version": "3.10.8"
  }
 },
 "nbformat": 4,
 "nbformat_minor": 5
}
