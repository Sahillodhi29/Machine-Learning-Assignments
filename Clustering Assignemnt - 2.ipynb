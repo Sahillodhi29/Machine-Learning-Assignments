{
 "cells": [
  {
   "cell_type": "code",
   "execution_count": null,
   "id": "4009783f-8681-46f0-be47-a2795a924a49",
   "metadata": {},
   "outputs": [],
   "source": [
    "'''Q1. What is hierarchical clustering, and how is it different from other clustering techniques?'''\n",
    "'''\n",
    "hierarchical clustering - it is another type of clustering method , it doesn't \n",
    "intialize centroids it uses different techniques '''"
   ]
  },
  {
   "cell_type": "code",
   "execution_count": null,
   "id": "8fe181ef-77e8-4c80-8bbc-c7bf1717c9ec",
   "metadata": {},
   "outputs": [],
   "source": [
    "'''Q2. What are the two main types of hierarchical clustering algorithms? Describe each in brief.'''\n",
    "'''\n",
    "two main types of hierarchical clustering-\n",
    "\n",
    "agglomerative - it firstly makes all the datapoints as individual clusters then add into each other \n",
    "\n",
    "divisive - it firstly takes all the datapoints as one clusters then divide into manyy small clusters '''"
   ]
  },
  {
   "cell_type": "code",
   "execution_count": null,
   "id": "86cdcd34-1995-40fd-b70b-7c3f69bb6af2",
   "metadata": {},
   "outputs": [],
   "source": [
    "'''Q3. How do you determine the distance between two clusters in hierarchical clustering, and what are the\n",
    "common distance metrics used?'''\n",
    "'''\n",
    "the\n",
    "common distance metrics used in hierarchical clustering -\n",
    "\n",
    "eucleidan distance \n",
    "\n",
    "manhatten distance '''"
   ]
  },
  {
   "cell_type": "code",
   "execution_count": null,
   "id": "85fd867f-5b87-4b5e-86b9-db96bbc6883a",
   "metadata": {},
   "outputs": [],
   "source": [
    "'''Q4. How do you determine the optimal number of clusters in hierarchical clustering, and what are some\n",
    "common methods used for this purpose?'''\n",
    "\n",
    "'''with the help of Dendogram '''\n"
   ]
  },
  {
   "cell_type": "code",
   "execution_count": null,
   "id": "7d4562c4-26be-41c8-9985-97de00297f15",
   "metadata": {},
   "outputs": [],
   "source": [
    "'''Q5. What are dendrograms in hierarchical clustering, and how are they useful in analyzing the results?'''\n",
    "'''\n",
    "we make the longest horizontal line the dendogram such that any other horizontal line doesn't passes through it \n",
    "only vertical lines and then we see how many clusters are their that will be the optimal number of clusters '''"
   ]
  }
 ],
 "metadata": {
  "kernelspec": {
   "display_name": "Python 3 (ipykernel)",
   "language": "python",
   "name": "python3"
  },
  "language_info": {
   "codemirror_mode": {
    "name": "ipython",
    "version": 3
   },
   "file_extension": ".py",
   "mimetype": "text/x-python",
   "name": "python",
   "nbconvert_exporter": "python",
   "pygments_lexer": "ipython3",
   "version": "3.10.8"
  }
 },
 "nbformat": 4,
 "nbformat_minor": 5
}
