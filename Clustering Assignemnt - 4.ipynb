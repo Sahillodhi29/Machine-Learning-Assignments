{
 "cells": [
  {
   "cell_type": "code",
   "execution_count": null,
   "id": "0ca214c0-a9e7-4110-9577-02980e4ffad2",
   "metadata": {},
   "outputs": [],
   "source": [
    "'''Q1. Explain the concept of homogeneity and completeness in clustering evaluation. How are they\n",
    "calculated?'''\n",
    "\n",
    "'''Homogeneity and completeness are two metrics commonly used to evaluate the performance of clustering algorithms\n",
    "\n",
    "The homogeneity score H is calculated using the following formula:\n",
    "\n",
    "H(U,C)=1− H(U∣C)/H(U)\n",
    "\n",
    "The completeness score C is calculated using the following formula:\n",
    "\n",
    "C(U,C)=1-H(C/U)/H(c)\n",
    "\n",
    "\n",
    " '''"
   ]
  },
  {
   "cell_type": "code",
   "execution_count": null,
   "id": "6f73b596-4356-49c2-a6ac-5d51a25c9d69",
   "metadata": {},
   "outputs": [],
   "source": [
    "'''Q2. What is the V-measure in clustering evaluation? How is it related to homogeneity and completeness?'''\n",
    "'''\n",
    "V-measure- both homogeneity and completeness are often used together to calculate the V-measure, \n",
    "which is the harmonic mean of homogeneity and completeness.\n",
    "'''"
   ]
  },
  {
   "cell_type": "code",
   "execution_count": null,
   "id": "474b180b-2f81-4ace-9669-bc7fc8033b25",
   "metadata": {},
   "outputs": [],
   "source": [
    "'''Q3. How is the Silhouette Coefficient used to evaluate the quality of a clustering result? What is the range\n",
    "of its values?'''\n",
    "\n",
    "'''The Silhouette Coefficient is a metric used to evaluate the quality of a clustering result.\n",
    "It measures how similar an object is to its own cluster compared to other clusters. The coefficient ranges \n",
    "from -1 to 1, where a high value indicates that the object is well matched to its own cluster and poorly matched\n",
    "to neighboring clusters.'''"
   ]
  },
  {
   "cell_type": "code",
   "execution_count": null,
   "id": "f94b70a1-e264-45be-8550-77c02a3a0453",
   "metadata": {},
   "outputs": [],
   "source": [
    "'''Q4. What are some advantages and disadvantages of using the Silhouette Coefficient to evaluate a\n",
    "clustering result?'''\n",
    "\n",
    "'''' Silhouette Coefficient is a useful and interpretable metric for assessing clustering quality, it's important \n",
    "to consider its limitations, particularly in scenarios where clusters exhibit complex shapes or when dealing with\n",
    "non-Euclidean data'''"
   ]
  }
 ],
 "metadata": {
  "kernelspec": {
   "display_name": "Python 3 (ipykernel)",
   "language": "python",
   "name": "python3"
  },
  "language_info": {
   "codemirror_mode": {
    "name": "ipython",
    "version": 3
   },
   "file_extension": ".py",
   "mimetype": "text/x-python",
   "name": "python",
   "nbconvert_exporter": "python",
   "pygments_lexer": "ipython3",
   "version": "3.10.8"
  }
 },
 "nbformat": 4,
 "nbformat_minor": 5
}
