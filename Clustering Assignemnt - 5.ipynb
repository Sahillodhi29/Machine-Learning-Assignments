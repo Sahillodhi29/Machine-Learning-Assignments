{
 "cells": [
  {
   "cell_type": "code",
   "execution_count": null,
   "id": "c1539f45-94ae-4031-885a-1384eeda92b8",
   "metadata": {},
   "outputs": [],
   "source": [
    "'''Q1. What is a contingency matrix, and how is it used to evaluate the performance of a classification model?'''\n",
    "'''\n",
    "contingency matrix is used as performance metrics\n",
    "\n",
    "it is a 2*2 matrix which has four values counts \n",
    "true positive false positive\n",
    "false negetive true negetive\n",
    "\n",
    "we can find accuracy also using confusion matrix '''"
   ]
  },
  {
   "cell_type": "code",
   "execution_count": null,
   "id": "2f975e26-d0ac-4bba-ad4b-590ab627f1ec",
   "metadata": {},
   "outputs": [],
   "source": [
    "'''Q2. How is a pair confusion matrix different from a regular confusion matrix, and why might it be useful in\n",
    "certain situations?'''\n",
    "\n",
    "\n",
    "'''A pair confusion matrix, on the other hand, considers pairs of instances and their relationships. \n",
    "It typically includes the following entries:\n",
    "\n",
    "Positive-Positive (PP): Instances correctly predicted as positive.\n",
    "Negative-Negative (NN): Instances correctly predicted as negative.\n",
    "Positive-Negative (PN): Instances predicted as positive but actually negative.\n",
    "Negative-Positive (NP): Instances predicted as negative but actually positive.'''"
   ]
  },
  {
   "cell_type": "code",
   "execution_count": null,
   "id": "327b88ba-660f-4b73-9a8a-1315364a9815",
   "metadata": {},
   "outputs": [],
   "source": [
    "'''Q4. What is an intrinsic measure in the context of machine learning, and how does it differ from an\n",
    "extrinsic measure?'''\n",
    "\n",
    "'''intrinsic measures assess the quality of a model without external information, relying solely on the model's\n",
    "internal characteristics.\n",
    "Extrinsic measures, in contrast, incorporate external information or benchmarks for evaluation.\n",
    "Intrinsic measures aim to capture inherent properties, while extrinsic measures consider external \n",
    "criteria for assessment'''"
   ]
  }
 ],
 "metadata": {
  "kernelspec": {
   "display_name": "Python 3 (ipykernel)",
   "language": "python",
   "name": "python3"
  },
  "language_info": {
   "codemirror_mode": {
    "name": "ipython",
    "version": 3
   },
   "file_extension": ".py",
   "mimetype": "text/x-python",
   "name": "python",
   "nbconvert_exporter": "python",
   "pygments_lexer": "ipython3",
   "version": "3.10.8"
  }
 },
 "nbformat": 4,
 "nbformat_minor": 5
}
