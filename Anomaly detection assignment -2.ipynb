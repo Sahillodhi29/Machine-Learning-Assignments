{
 "cells": [
  {
   "cell_type": "code",
   "execution_count": null,
   "id": "bbb2c619-33d6-46da-b36b-0e38a1879260",
   "metadata": {},
   "outputs": [],
   "source": [
    "'''Q1. What is the role of feature selection in anomaly detection?'''\n",
    "\n",
    "'''Feature selection in anomaly detection involves choosing relevant input variables to enhance model performance.\n",
    "Selecting informative features improves the detection of anomalies, reduces computational complexity, and mitigates\n",
    "the impact of irrelevant or redundant attributes. It plays a crucial role in improving the efficiency and accuracy of\n",
    "anomaly detection algorithms.\n",
    "'''"
   ]
  },
  {
   "cell_type": "code",
   "execution_count": null,
   "id": "a9e9e8a5-5109-4894-b9af-a1943248c686",
   "metadata": {},
   "outputs": [],
   "source": [
    "'''Q2. What are some common evaluation metrics for anomaly detection algorithms and how are they\n",
    "computed?'''\n",
    "\n",
    "'''Common evaluation metrics for anomaly detection include precision, recall, F1-score, and area under the ROC curve\n",
    "(AUC-ROC). Precision is computed as true positives divided by the total predicted positives. Recall is true positives \n",
    "divided by the actual positives. F1-score is the harmonic mean of precision and recall. '''"
   ]
  },
  {
   "cell_type": "code",
   "execution_count": null,
   "id": "45aa4d55-49a4-42a6-af3b-2309b44f6d32",
   "metadata": {},
   "outputs": [],
   "source": [
    "'''Q3. What is DBSCAN and how does it work for clustering?'''\n",
    "\n",
    "'''DBSCAN (Density-Based Spatial Clustering of Applications with Noise) is a clustering algorithm.\n",
    "It groups data points based on density, identifying dense regions as clusters. It labels data points as core,\n",
    "border, or noise. Core points form clusters, and border points connect clusters. It adapts to varying cluster\n",
    "shapes and effectively handles noise.\n",
    "'''"
   ]
  },
  {
   "cell_type": "code",
   "execution_count": null,
   "id": "29d82d37-01b7-42ab-9e96-15f6a247fbe4",
   "metadata": {},
   "outputs": [],
   "source": [
    "'''Q4. How does the epsilon parameter affect the performance of DBSCAN in detecting anomalies?'''\n",
    "\n",
    "'''The epsilon (ε) parameter in DBSCAN defines the maximum distance for a data point to be considered a neighbor of another.\n",
    "Adjusting ε influences cluster formation and can impact anomaly detection. Smaller ε may lead to tighter clusters,\n",
    "potentially misclassifying outliers as anomalies, while larger ε may merge clusters, affecting sensitivity to anomalies.\n",
    "Finding an optimal ε is crucial for effective anomaly detection.'''"
   ]
  },
  {
   "cell_type": "code",
   "execution_count": null,
   "id": "5e1be5b8-5d5b-44cf-9c7c-1630901a7e9d",
   "metadata": {},
   "outputs": [],
   "source": [
    "'''Q5. What are the differences between the core, border, and noise points in DBSCAN, and how do they relate\n",
    "to anomaly detection?'''\n",
    "\n",
    "'''In DBSCAN, core points have enough neighbors within the epsilon radius. Border points have fewer neighbors \n",
    "but are reachable from core points. Noise points lack sufficient neighbors. Core points form clusters, border\n",
    "points connect them, and noise points may represent anomalies. Identifying such points aids in distinguishing \n",
    "normal patterns from outliers in anomaly detection.'''"
   ]
  }
 ],
 "metadata": {
  "kernelspec": {
   "display_name": "Python 3 (ipykernel)",
   "language": "python",
   "name": "python3"
  },
  "language_info": {
   "codemirror_mode": {
    "name": "ipython",
    "version": 3
   },
   "file_extension": ".py",
   "mimetype": "text/x-python",
   "name": "python",
   "nbconvert_exporter": "python",
   "pygments_lexer": "ipython3",
   "version": "3.10.8"
  }
 },
 "nbformat": 4,
 "nbformat_minor": 5
}
