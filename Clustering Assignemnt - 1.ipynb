{
 "cells": [
  {
   "cell_type": "code",
   "execution_count": null,
   "id": "8370534e-17ba-45ce-a690-a09929b1d919",
   "metadata": {},
   "outputs": [],
   "source": [
    "'''Q1. What are the different types of clustering algorithms, and how do they differ in terms of their approach\n",
    "and underlying assumptions?'''\n",
    "'''\n",
    "types of clustering algorithms-\n",
    "\n",
    "1. Kmeans Clustering - it assumes to initialize k number of centroids\n",
    "\n",
    "2. Heirarichai clustering -it uses agglomerative and divisive approach\n",
    "\n",
    "3. DBSCAN Clustering - it uses core point , border point and outlier point '''"
   ]
  },
  {
   "cell_type": "code",
   "execution_count": null,
   "id": "64ebcb5a-e4b4-4934-91f6-dbc7a82ef21b",
   "metadata": {},
   "outputs": [],
   "source": [
    "'''Q2.What is K-means clustering, and how does it work?'''\n",
    "'''\n",
    "Kmeans Clustering -\n",
    "\n",
    "firstly it initialize k number of centroids\n",
    "\n",
    "then they calculate the distances from their nearest neighbours \n",
    "\n",
    "then shift towards the mean value of distances\n",
    "\n",
    "and keep on repeating these process until the data points get seperated in k groups or clusters '''"
   ]
  },
  {
   "cell_type": "code",
   "execution_count": null,
   "id": "889b40c6-d7ec-44d8-9916-f1e6dd886b2e",
   "metadata": {},
   "outputs": [],
   "source": [
    "'''Q3. What are some advantages and limitations of K-means clustering compared to other clustering\n",
    "techniques?'''\n",
    "'''\n",
    "limitations of K-means clustering compared to other clustering\n",
    "techniques is Random intialization trap which leads to forming wrong or overlapping clusters '''"
   ]
  },
  {
   "cell_type": "code",
   "execution_count": null,
   "id": "316ff9c1-fc6f-416c-bf19-ec4fcea3852e",
   "metadata": {},
   "outputs": [],
   "source": [
    "'''Q4. How do you determine the optimal number of clusters in K-means clustering, and what are some\n",
    "common methods for doing so?'''\n",
    "'''\n",
    "we can use elbow ethod and find out the elbow point which will be the optimal value of k with the help of WCSS graph \n",
    ",from the point the value of WCSS gets constant or have low varaiance then that point is the elbow point '''"
   ]
  },
  {
   "cell_type": "code",
   "execution_count": null,
   "id": "73789128-da94-4e00-91b9-ded812d7067a",
   "metadata": {},
   "outputs": [],
   "source": [
    "'''Q6. How do you interpret the output of a K-means clustering algorithm, and what insights can you derive\n",
    "from the resulting clusters?'''\n",
    "\n",
    "'''once we found different clusters of data points then we can target them seperately \n",
    "for selling or any purpose based on the given features '''"
   ]
  },
  {
   "cell_type": "code",
   "execution_count": null,
   "id": "e04eaec9-951c-4ad3-83cb-50ee51bc9653",
   "metadata": {},
   "outputs": [],
   "source": [
    "'''Q7. What are some common challenges in implementing K-means clustering, and how can you address\n",
    "them?'''\n",
    "'''\n",
    "RANDOM INTIALIZATION TRAP -\n",
    "\n",
    "when we randomly intializes the centroids then it may be possible that they get initialize near\n",
    "each other which can lead to overlapping clustering , hence we should always intializes the centroids \n",
    "far from each other which can be done with the help of Kmeans ++ '''"
   ]
  }
 ],
 "metadata": {
  "kernelspec": {
   "display_name": "Python 3 (ipykernel)",
   "language": "python",
   "name": "python3"
  },
  "language_info": {
   "codemirror_mode": {
    "name": "ipython",
    "version": 3
   },
   "file_extension": ".py",
   "mimetype": "text/x-python",
   "name": "python",
   "nbconvert_exporter": "python",
   "pygments_lexer": "ipython3",
   "version": "3.10.8"
  }
 },
 "nbformat": 4,
 "nbformat_minor": 5
}
