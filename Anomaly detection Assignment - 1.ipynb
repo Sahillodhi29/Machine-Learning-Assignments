{
 "cells": [
  {
   "cell_type": "code",
   "execution_count": null,
   "id": "04cdb7dc-ef51-4635-badf-30f96ef09d91",
   "metadata": {},
   "outputs": [],
   "source": [
    "'''Q1. What is anomaly detection and what is its purpose?'''\n",
    "\n",
    "'''Anomaly detection is the identification of patterns or instances that deviate significantly \n",
    "from the norm in a dataset. Its purpose is to uncover unusual behavior, outliers, or irregularities \n",
    "that may indicate errors, fraud, or noteworthy events, enabling timely intervention and improved data\n",
    "quality in various applications, including cybersecurity and finance.'''"
   ]
  },
  {
   "cell_type": "code",
   "execution_count": null,
   "id": "662699c2-c056-4a6a-9574-298e1cd1fdcd",
   "metadata": {},
   "outputs": [],
   "source": [
    "'''Q2. What are the key challenges in anomaly detection?'''\n",
    "\n",
    "'''Key challenges in anomaly detection include defining normal behavior, handling evolving patterns,\n",
    "dealing with imbalanced datasets, and adapting to varying data characteristics. Additionally, distinguishing \n",
    "anomalies from noise, avoiding false positives, and addressing interpretability issues pose difficulties, making \n",
    "it essential to choose suitable algorithms and fine-tune parameters for effective anomaly detection.'''"
   ]
  },
  {
   "cell_type": "code",
   "execution_count": null,
   "id": "e5a72d30-608d-41a3-bf1f-5ffb2655018d",
   "metadata": {},
   "outputs": [],
   "source": [
    "'''Q3. How does unsupervised anomaly detection differ from supervised anomaly detection?'''\n",
    "\n",
    "'''Unsupervised anomaly detection identifies anomalies without labeled training data,\n",
    "relying on inherent patterns. It doesn't require prior knowledge of anomalies. Supervised anomaly detection,\n",
    "on the other hand, uses labeled data to train models, distinguishing normal from abnormal instances.\n",
    "It requires annotated data and is more suitable for specific anomaly types.'''"
   ]
  },
  {
   "cell_type": "code",
   "execution_count": null,
   "id": "129cb2f0-98dc-4f9d-9764-5c9737073bf3",
   "metadata": {},
   "outputs": [],
   "source": [
    "'''Q4. What are the main categories of anomaly detection algorithms?'''\n",
    "\n",
    "'''Anomaly detection algorithms can be categorized into statistical methods, clustering-based approaches,\n",
    "classification-based models, and hybrid techniques. Statistical methods analyze data distributions, clustering \n",
    "methods group similar instances, classification models classify anomalies, and hybrid approaches combine multiple\n",
    "techniques for improved accuracy and flexibility in detecting anomalies across various contexts.'''"
   ]
  },
  {
   "cell_type": "code",
   "execution_count": null,
   "id": "9dc50d9f-5bf1-43cd-8cb8-4ab4ceabc44c",
   "metadata": {},
   "outputs": [],
   "source": [
    "'''Q5. What are the main assumptions made by distance-based anomaly detection methods?'''\n",
    "\n",
    "'''Distance-based anomaly detection methods assume that normal data instances are densely concentrated, \n",
    "forming clusters. Anomalies, being rare, have greater distances from normal instances. These methods often\n",
    "rely on distance metrics like Euclidean distance or Mahalanobis distance to identify instances that deviate\n",
    "significantly from the majority of the data.'''"
   ]
  }
 ],
 "metadata": {
  "kernelspec": {
   "display_name": "Python 3 (ipykernel)",
   "language": "python",
   "name": "python3"
  },
  "language_info": {
   "codemirror_mode": {
    "name": "ipython",
    "version": 3
   },
   "file_extension": ".py",
   "mimetype": "text/x-python",
   "name": "python",
   "nbconvert_exporter": "python",
   "pygments_lexer": "ipython3",
   "version": "3.10.8"
  }
 },
 "nbformat": 4,
 "nbformat_minor": 5
}
