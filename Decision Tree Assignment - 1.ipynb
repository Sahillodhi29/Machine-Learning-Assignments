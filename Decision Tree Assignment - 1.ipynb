{
 "cells": [
  {
   "cell_type": "code",
   "execution_count": null,
   "id": "3f880066-1e9d-43e1-b328-2263e345758e",
   "metadata": {},
   "outputs": [],
   "source": [
    "'''Q1. Describe the decision tree classifier algorithm and how it works to make predictions.'''\n",
    "'''\n",
    "decision tree classifier algorithm is nothing but a nested if else statements.\n",
    "\n",
    "it splits into various branches from the root node and split upto leaf node.\n",
    "\n",
    "it has two important characteristics-\n",
    "\n",
    "1. Purity check - for a binary feature it checks it the splited node is pure or not by using \n",
    "two criteria -\n",
    "\n",
    "1. Entropy\n",
    "2. gini impurity\n",
    "\n",
    "2.Information Gain- to decide from which feature we should start the tree we use information gain '''"
   ]
  },
  {
   "cell_type": "code",
   "execution_count": null,
   "id": "f498c98b-e54e-4198-9aa7-d5bcdccbf0d3",
   "metadata": {},
   "outputs": [],
   "source": [
    "'''Q2. Provide a step-by-step explanation of the mathematical intuition behind decision tree classification.'''\n",
    "'''\n",
    "step-by-step explanation of the mathematical intuition behind decision tree classification-\n",
    "\n",
    "1.Start with the entire dataset\n",
    "\n",
    "2.split the dataset\n",
    "\n",
    "3. repeat till the we get all the nodes as leaf node or you may use Post prunning\n",
    "\n",
    "4.check the purity and information gain\n",
    "\n",
    "5.find the accuracy and classification report '''"
   ]
  },
  {
   "cell_type": "code",
   "execution_count": null,
   "id": "aec31dea-c776-4e18-8a3e-03917e1bc84b",
   "metadata": {},
   "outputs": [],
   "source": [
    "'''Q3. Explain how a decision tree classifier can be used to solve a binary classification problem.'''\n",
    "'''\n",
    "we would use the information gain to select the root node and then split it into different branches \n",
    "till we get all the nodes as leaf node\n",
    "\n",
    "which means either the node will all yes or all no '''"
   ]
  },
  {
   "cell_type": "code",
   "execution_count": null,
   "id": "14df40bc-11a6-4e1a-b615-3af4774c7465",
   "metadata": {},
   "outputs": [],
   "source": [
    "'''Q5. Define the confusion matrix and describe how it can be used to evaluate the performance of a\n",
    "classification model.'''\n",
    "\n",
    "'''onfusing matrix is used as performance metrics\n",
    "\n",
    "it is a 2*2 matrix which has four values counts \n",
    "true positive false positive\n",
    "false negetive true negetive\n",
    "\n",
    "we can evaluate the performance of a\n",
    "classification model  by finding accuracy also using confusion matrix'''"
   ]
  },
  {
   "cell_type": "code",
   "execution_count": null,
   "id": "989c179c-e149-4319-a878-ddf391e757a4",
   "metadata": {},
   "outputs": [],
   "source": [
    "'''Q6. Provide an example of a confusion matrix and explain how precision, recall, and F1 score can be\n",
    "calculated from it.'''\n",
    "'''\n",
    "for example we have calculated y_test and y_pred for a dataset\n",
    "\n",
    "conf_mat = confusion_matrix(y_test,y_pred)\n",
    "conf_mat # it will give us a 2*2 matrix\n",
    "\n",
    "true_positive = conf_mat[0][0]\n",
    "false_positive = conf_mat[0][1]\n",
    "false_negative = conf_mat[1][0]\n",
    "true_negative = conf_mat[1][1]\n",
    "\n",
    "Accuracy = (true_positive + true_negative) / (true_positive +false_positive + false_negative + true_negative)\n",
    "\n",
    "\n",
    "Precision = true_positive/(true_positive+false_positive)\n",
    "\n",
    "\n",
    "Recall = true_positive/(true_positive+false_negative)\n",
    "\n",
    "\n",
    "F1_Score = 2*(Recall * Precision) / (Recall + Precision)\n",
    "\n",
    "'''"
   ]
  }
 ],
 "metadata": {
  "kernelspec": {
   "display_name": "Python 3 (ipykernel)",
   "language": "python",
   "name": "python3"
  },
  "language_info": {
   "codemirror_mode": {
    "name": "ipython",
    "version": 3
   },
   "file_extension": ".py",
   "mimetype": "text/x-python",
   "name": "python",
   "nbconvert_exporter": "python",
   "pygments_lexer": "ipython3",
   "version": "3.10.8"
  }
 },
 "nbformat": 4,
 "nbformat_minor": 5
}
