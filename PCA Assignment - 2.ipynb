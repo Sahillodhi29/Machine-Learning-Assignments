{
 "cells": [
  {
   "cell_type": "code",
   "execution_count": null,
   "id": "d8efd6ce-9b34-40d4-8148-d54b51b7acd7",
   "metadata": {},
   "outputs": [],
   "source": [
    "'''Q1. What is a projection and how is it used in PCA?'''\n",
    "'''\n",
    "In PCA, the projection of data onto the principal components is a key step. \n",
    "The projection involves finding the linear combination of the original features that represents each data\n",
    "point in the space defined by the principal components. '''"
   ]
  },
  {
   "cell_type": "code",
   "execution_count": null,
   "id": "77e4ba91-3188-44ba-b953-f5e9968452fd",
   "metadata": {},
   "outputs": [],
   "source": [
    "'''Q2. How does the optimization problem in PCA work, and what is it trying to achieve?'''\n",
    "'''\n",
    "The optimization problem in PCA involves finding these principal components and corresponding projections \n",
    "in a way that maximizes the variance of the projected data. The primary objective is to capture the maximum \n",
    "amount of information or variance in the data with fewer dimensions. '''"
   ]
  },
  {
   "cell_type": "code",
   "execution_count": null,
   "id": "abc0097a-a0cc-4a65-9c9c-5da74ae8332b",
   "metadata": {},
   "outputs": [],
   "source": [
    "'''Q3. What is the relationship between covariance matrices and PCA?'''\n",
    "\n",
    "'''the covariance matrix is crucial in PCA as it provides the basis for identifying the directions of maximum variance \n",
    "in the data'''"
   ]
  },
  {
   "cell_type": "code",
   "execution_count": null,
   "id": "b571a42d-ab69-4d56-9509-04df8452947b",
   "metadata": {},
   "outputs": [],
   "source": [
    "'''Q4. How does the choice of number of principal components impact the performance of PCA?'''\n",
    "\n",
    "'''The choice of the number of principal components in Principal Component Analysis (PCA) can significantly impact\n",
    "the performance and outcomes of the technique. The decision involves finding a balance between reducing the dimensionality\n",
    "of the data and retaining enough information to represent the variability in the original dataset. '''"
   ]
  },
  {
   "cell_type": "code",
   "execution_count": null,
   "id": "cba466ff-126d-4ecd-8683-6981d023dfc4",
   "metadata": {},
   "outputs": [],
   "source": [
    "'''Q5. How can PCA be used in feature selection, and what are the benefits of using it for this purpose?'''\n",
    "'''\n",
    "pca can be used in eature selection as it reduces dimensions and it's benifit is that it doesn't remove the whole \n",
    "feature but takes the variation in it also '''"
   ]
  },
  {
   "cell_type": "code",
   "execution_count": null,
   "id": "fbd9cb32-af3a-49ec-a81c-19aed40cfbfd",
   "metadata": {},
   "outputs": [],
   "source": []
  }
 ],
 "metadata": {
  "kernelspec": {
   "display_name": "Python 3 (ipykernel)",
   "language": "python",
   "name": "python3"
  },
  "language_info": {
   "codemirror_mode": {
    "name": "ipython",
    "version": 3
   },
   "file_extension": ".py",
   "mimetype": "text/x-python",
   "name": "python",
   "nbconvert_exporter": "python",
   "pygments_lexer": "ipython3",
   "version": "3.10.8"
  }
 },
 "nbformat": 4,
 "nbformat_minor": 5
}
