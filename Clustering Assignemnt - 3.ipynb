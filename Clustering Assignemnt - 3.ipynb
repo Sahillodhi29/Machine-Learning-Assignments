{
 "cells": [
  {
   "cell_type": "markdown",
   "id": "010d84c7-28b0-485c-b3aa-65312d1ea714",
   "metadata": {},
   "source": [
    "# DBSCAN Clustering"
   ]
  },
  {
   "cell_type": "code",
   "execution_count": null,
   "id": "c5e37372-f4bb-42e8-9062-e6378df8b5a1",
   "metadata": {},
   "outputs": [],
   "source": [
    "the whole DBSCAN Clustering is based on three points and 2 hyperparameters minimum datapoints and epsilan which is\n",
    "used as radius\n",
    "\n",
    "let us understand the three major points \n",
    "\n",
    "1. Core point - when the datapoints inside the circle of radius epsilan is greater or equal to minimum datapoints \n",
    "                it is said to be core point ]\n",
    "    \n",
    "2. Border point - when the datapoints inside the circle of radius epsilan is less than minimum datapoints \n",
    "                 it is said to be Border point\n",
    "    \n",
    "3. Outlier point - when there are no datapoints inside the circle of radius epsilanb it is said to be Outlier point \n",
    "\n",
    "\n",
    "so by this all information the points wll be form in different different clusters "
   ]
  },
  {
   "cell_type": "code",
   "execution_count": null,
   "id": "9cb4a9b7-d25f-496c-8544-e5dd25f8ecea",
   "metadata": {},
   "outputs": [],
   "source": []
  }
 ],
 "metadata": {
  "kernelspec": {
   "display_name": "Python 3 (ipykernel)",
   "language": "python",
   "name": "python3"
  },
  "language_info": {
   "codemirror_mode": {
    "name": "ipython",
    "version": 3
   },
   "file_extension": ".py",
   "mimetype": "text/x-python",
   "name": "python",
   "nbconvert_exporter": "python",
   "pygments_lexer": "ipython3",
   "version": "3.10.8"
  }
 },
 "nbformat": 4,
 "nbformat_minor": 5
}
